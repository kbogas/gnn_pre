{
 "cells": [
  {
   "cell_type": "code",
   "execution_count": 32,
   "metadata": {},
   "outputs": [],
   "source": [
    "from torchkge import models\n",
    "import torch\n",
    "import pandas as pd\n",
    "import numpy as np\n",
    "import json\n",
    "import os\n",
    "from tqdm import tqdm_notebook\n",
    "import matplotlib.pyplot as plt\n",
    "%matplotlib inline\n",
    "plt.style.use('dark_background')\n"
   ]
  },
  {
   "cell_type": "code",
   "execution_count": 21,
   "metadata": {},
   "outputs": [
    {
     "name": "stdout",
     "output_type": "stream",
     "text": [
      "Unique nodes: 1476\n"
     ]
    }
   ],
   "source": [
    "root_file = './data/CLEAN_DB_FOR_GNN_17_02/'\n",
    "train = pd.read_csv(os.path.join(root_file, 'train.txt'), header=None, names=['h', 'r', 't'])\n",
    "test = pd.read_csv(os.path.join(root_file, 'test.txt'), header=None, names=['h', 'r', 't'])\n",
    "map_ = pd.read_csv(os.path.join(root_file, 'DB_Bert_Emb_INT__MAPPING.csv'))\n",
    "db2index = dict(zip(map_.DB_ID, map_.INDEX))\n",
    "index2db = dict(zip(map_.INDEX, map_.DB_ID))\n",
    "emb_ = pd.read_csv(os.path.join(root_file, 'DB_Bert_Emb_INT.csv'))\n",
    "mapping = {}\n",
    "for i, row in emb_.iterrows():\n",
    "    mapping[row['DB_ID']] = row[:-1].values\n",
    "db_ids = db2index.keys()\n",
    "assert len(set(index2db.keys()).difference(train['h'].unique().tolist()+train['t'].unique().tolist()+test['h'].unique().tolist()+test['t'].unique().tolist())) == 0\n",
    "print(\"Unique nodes: %d\" % len(db2index))"
   ]
  },
  {
   "cell_type": "code",
   "execution_count": 23,
   "metadata": {},
   "outputs": [
    {
     "name": "stdout",
     "output_type": "stream",
     "text": [
      "TRAIN\n",
      "170381 170381\n",
      "TEST\n",
      "304597 304597\n"
     ]
    }
   ],
   "source": [
    "pairs = train['h'].astype(str) + '_' + train['t'].astype(str)\n",
    "x_train_pairs = list(set(pairs))\n",
    "print(\"TRAIN\")\n",
    "print(len(pairs), len(x_train_pairs))\n",
    "\n",
    "pairs = test['h'].astype(str) + '_' + test['t'].astype(str)\n",
    "x_test_pairs = list(set(pairs))\n",
    "print(\"TEST\")\n",
    "print(len(pairs), len(x_test_pairs))"
   ]
  },
  {
   "cell_type": "code",
   "execution_count": 229,
   "metadata": {},
   "outputs": [
    {
     "name": "stdout",
     "output_type": "stream",
     "text": [
      "(1476, 768)\n",
      "(1, 768)\n"
     ]
    }
   ],
   "source": [
    "df_emb = pd.read_csv('./Emb/CLEAN_DB_FOR_GNN_17_02/_TransE_ENT_EMB.csv')\n",
    "df_rel = pd.read_csv('./Emb/CLEAN_DB_FOR_GNN_17_02/_TransE_REL_EMB.csv')\n",
    "node_list = df_emb[df_emb.columns[-1]]\n",
    "rel_list = df_rel[df_rel.columns[-1]]\n",
    "del df_emb[df_emb.columns[-1]]\n",
    "del df_rel[df_rel.columns[-1]]\n",
    "nodes_emb = df_emb.values\n",
    "rel_emb = df_rel.values\n",
    "print(nodes_emb.shape)\n",
    "print(rel_emb.shape)"
   ]
  },
  {
   "cell_type": "code",
   "execution_count": 188,
   "metadata": {},
   "outputs": [],
   "source": [
    "def show_metrics_pos(y_true, y_score, wanted_indexes=None, print_=True, neg_label=0, pos_label=1):\n",
    "    if wanted_indexes:\n",
    "        y_true = y_true[wanted_indexes]\n",
    "        y_score = y_score[wanted_indexes]\n",
    "    if neg_label != 0:\n",
    "        y_true[y_true==neg_label] = 0\n",
    "        y_score[y_score==neg_label] = 0\n",
    "    if pos_label != 1:\n",
    "        y_true[y_true==pos_label] = 1\n",
    "        y_score[y_score==pos_label] = 1\n",
    "    # True positive\n",
    "    tp = np.sum(y_true * y_score)\n",
    "    # False positive\n",
    "    fp = np.sum((y_true == 0) * y_score)\n",
    "    # False negative\n",
    "    fn = np.sum(y_true * (y_score==0))\n",
    "    # tn\n",
    "    tn = np.sum((y_true == 0) * (y_score==0))\n",
    "    # True positive rate (sensitivity or recall)\n",
    "    tpr = tp / (tp + fn)\n",
    "    # Precision\n",
    "    precision = tp / (tp + fp)\n",
    "    # F1 score\n",
    "    f1 = 2*tp / (2*tp + fp + fn)\n",
    "#     print(\"True positive: \", tp)\n",
    "#     print(\"False positive: \", fp)\n",
    "#     print(\"False negative: \", fn)\n",
    "    total = tp + fp +fn +tn\n",
    "    if print_:\n",
    "        print(\"True positive: %d (%0.2f %%)\" % (tp, 100*float(tp)/total))\n",
    "        print(\"False positive: %d (%0.2f %%)\" % (fp, 100*float(fp)/total))\n",
    "        print(\"False negative: %d (%0.2f %%)\" % (fn, 100*fn/total))\n",
    "        print(\"True negative: %d (%0.2f %%)\" % (tn, 100*tn/total))\n",
    "        print(\"Total #: \", total)\n",
    "        print(\"True positive rate (recall): \", tpr)\n",
    "        print(\"Precision: \", precision)\n",
    "        print(\"F1: \", f1)\n",
    "    return precision, tpr, f1"
   ]
  },
  {
   "cell_type": "code",
   "execution_count": 26,
   "metadata": {},
   "outputs": [
    {
     "name": "stdout",
     "output_type": "stream",
     "text": [
      "Sparsity Train: 92.18%\n",
      "Sparsity Test: 86.02%\n",
      "Sparsity Total: 78.20%\n"
     ]
    }
   ],
   "source": [
    "import numpy as np\n",
    "def get_sparsity(A):\n",
    "    return 1.0 - ( np.count_nonzero(A) / float(A.size) )\n",
    "\n",
    "# Adj matrix (train)\n",
    "\n",
    "adj_train = np.zeros((len(db_ids), len(db_ids)), dtype=np.int8)\n",
    "for item in x_train_pairs:\n",
    "    splits = item.split(\"_\")\n",
    "    try:\n",
    "        adj_train[int(splits[0]), int(splits[1])] = 1\n",
    "    except KeyError:\n",
    "        continue\n",
    "        \n",
    "        \n",
    "print(\"Sparsity Train: %0.2f%%\"%(100*get_sparsity(adj_train)))\n",
    "\n",
    "adj_test = np.zeros((len(db_ids), len(db_ids)), dtype=np.int8)\n",
    "for item in x_test_pairs:\n",
    "    splits = item.split(\"_\")\n",
    "    try:\n",
    "        adj_test[int(splits[0]), int(splits[1])] = 1\n",
    "    except KeyError:\n",
    "        continue\n",
    "\n",
    "print(\"Sparsity Test: %0.2f%%\"%(100*get_sparsity(adj_test)))\n",
    "\n",
    "adj_all = np.zeros_like(adj_train, dtype=np.int8)\n",
    "adj_all = adj_train + adj_test\n",
    "adj_all = np.clip(adj_all, 0, 1)\n",
    "print(\"Sparsity Total: %0.2f%%\"%(100*get_sparsity(adj_all)))"
   ]
  },
  {
   "cell_type": "code",
   "execution_count": 230,
   "metadata": {},
   "outputs": [
    {
     "name": "stderr",
     "output_type": "stream",
     "text": [
      "/media/kostas/DATA/miniconda3/lib/python3.7/site-packages/ipykernel_launcher.py:6: TqdmDeprecationWarning: This function will be removed in tqdm==5.0.0\n",
      "Please use `tqdm.notebook.tqdm` instead of `tqdm.tqdm_notebook`\n",
      "  \n"
     ]
    },
    {
     "data": {
      "application/vnd.jupyter.widget-view+json": {
       "model_id": "37b182b2eb664f7090021d11578b1b52",
       "version_major": 2,
       "version_minor": 0
      },
      "text/plain": [
       "HBox(children=(FloatProgress(value=0.0, max=1476.0), HTML(value='')))"
      ]
     },
     "metadata": {},
     "output_type": "display_data"
    },
    {
     "name": "stdout",
     "output_type": "stream",
     "text": [
      "\n"
     ]
    }
   ],
   "source": [
    "#Print Total Result\n",
    "X_est = []\n",
    "c = 0\n",
    "est_every = 10000\n",
    "y_pred = []\n",
    "for i in tqdm_notebook(range(len(adj_all))):\n",
    "    for j in range(len(adj_all)):\n",
    "        y_pred.append(np.linalg.norm(nodes_emb[int(i)] + rel_emb[0] - nodes_emb[int(j)]))\n",
    "#         X_est.append(np.concatenate([mapping[int(i)], mapping[int(j)]]).reshape(1,-1))\n",
    "#         c += 1\n",
    "#         if c == est_every:\n",
    "#             X_est = np.array(X_est).reshape(len(X_est), -1)\n",
    "#             X_est = StandardScaler().fit_transform(X_est)\n",
    "#             y_pred.extend(est.predict(X_est).ravel().tolist())\n",
    "#             c = 0\n",
    "#             X_est = []\n",
    "# For what's left\n",
    "#if c > 0:\n",
    "#     X_est = np.array(X_est).reshape(len(X_est), -1)\n",
    "#     y_pred.extend(est.predict(X_est).ravel().tolist())\n",
    "#     c = 0\n",
    "#     X_est = []"
   ]
  },
  {
   "cell_type": "code",
   "execution_count": 231,
   "metadata": {},
   "outputs": [
    {
     "name": "stderr",
     "output_type": "stream",
     "text": [
      "/media/kostas/DATA/miniconda3/lib/python3.7/site-packages/ipykernel_launcher.py:7: TqdmDeprecationWarning: This function will be removed in tqdm==5.0.0\n",
      "Please use `tqdm.notebook.tqdm` instead of `tqdm.tqdm_notebook`\n",
      "  import sys\n"
     ]
    },
    {
     "data": {
      "application/vnd.jupyter.widget-view+json": {
       "model_id": "824fc6496b264be088cf44c23f6c8ff9",
       "version_major": 2,
       "version_minor": 0
      },
      "text/plain": [
       "HBox(children=(FloatProgress(value=0.0), HTML(value='')))"
      ]
     },
     "metadata": {},
     "output_type": "display_data"
    },
    {
     "name": "stderr",
     "output_type": "stream",
     "text": [
      "/media/kostas/DATA/miniconda3/lib/python3.7/site-packages/ipykernel_launcher.py:22: RuntimeWarning: invalid value encountered in long_scalars\n"
     ]
    },
    {
     "name": "stdout",
     "output_type": "stream",
     "text": [
      "\n",
      "True positive: 37447 (1.72 %)\n",
      "False positive: 113055 (5.19 %)\n",
      "False negative: 267150 (12.26 %)\n",
      "True negative: 1760924 (80.83 %)\n",
      "Total #:  2178576\n",
      "True positive rate (recall):  0.12293949053995935\n",
      "Precision:  0.24881396924957808\n",
      "F1:  0.16456639104898055\n"
     ]
    },
    {
     "data": {
      "image/png": "[encoded data removed]",
      "text/plain": [
       "<Figure size 576x576 with 1 Axes>"
      ]
     },
     "metadata": {
      "needs_background": "dark"
     },
     "output_type": "display_data"
    }
   ],
   "source": [
    "fs = []\n",
    "\n",
    "adj_pred = np.array(y_pred).reshape(adj_test.shape)\n",
    "# adj_pred = torch.matmul(torch.matmul(torch.Tensor(nodes_emb), R[0]), torch.Tensor(nodes_emb.T)).detach().numpy()\n",
    "thresholds = np.linspace(np.min(adj_pred), np.max(adj_pred), 100)\n",
    "#adj_pred.fill_diagonal(np.max(adj_pred))\n",
    "for tr in tqdm_notebook(thresholds):\n",
    "    cur_ = adj_pred.copy()\n",
    "    cur_ = (cur_ < tr).astype(np.int_)\n",
    "    #cur_[cur_>= tr] = 0\n",
    "    #cur_[cur_< tr] = 1\n",
    "    #print(tr)\n",
    "    #print(cur_.sum())\n",
    "    _, _, f = show_metrics_pos(adj_train.ravel(), cur_.ravel(), print_=False)\n",
    "    fs.append(f)\n",
    "\n",
    "tr = thresholds[np.argmax(fs)]\n",
    "plt.figure(figsize=(8, 8))\n",
    "plt.plot(thresholds, fs, \"r-\", label=\"F1\")\n",
    "plt.ylabel(\"Score\")\n",
    "plt.xlabel(\"Decision Threshold\")\n",
    "plt.legend(loc='best')\n",
    "plt.title(\"With threshold %0.2f that gives %0.2f F1 at train edges.\" % (tr, np.max(fs)))\n",
    "\n",
    "# Binarize\n",
    "cur_ = adj_pred.copy().reshape(adj_test.shape)\n",
    "#np.fill_diagonal(cur_, np.max(cur_))\n",
    "cur_ = (cur_ < tr).astype(np.int_)\n",
    "_, _, _ = show_metrics_pos(adj_test.ravel(), cur_.ravel())"
   ]
  },
  {
   "cell_type": "code",
   "execution_count": 238,
   "metadata": {},
   "outputs": [
    {
     "data": {
      "image/png": "[encoded data removed]",
      "text/plain": [
       "<Figure size 720x360 with 2 Axes>"
      ]
     },
     "metadata": {
      "needs_background": "dark"
     },
     "output_type": "display_data"
    }
   ],
   "source": [
    "def plot_dist(name, thresholds, fs, adj_pred):\n",
    "    fig, axes = plt.subplots(1, 2, figsize=(10,5), sharex=True, sharey=False)\n",
    "    axes[0].plot(thresholds, fs, \"r-\", label=\"F1\")\n",
    "    axes[0].set_xlabel('Distances', fontsize=15)\n",
    "    axes[0].set_ylabel('Train F1', fontsize=15)\n",
    "    axes[0].set_title(\"With threshold %0.2f that gives %0.2f F1 at train edges.\" % (tr, np.max(fs)), fontsize=15)\n",
    "\n",
    "    axes[1].hist(adj_pred.ravel(), density=True, bins=100)\n",
    "    axes[1].set_xlabel('Scores', fontsize=15)\n",
    "    axes[1].set_ylabel('Counts', fontsize=15)\n",
    "    axes[1].set_title(\"Distribution\", fontsize=15)\n",
    "    plt.suptitle('%s' % name, fontsize=15)\n",
    "    plt.savefig('/media/kostas/DATA/LLD/Papers/RESEARCH/BIOBERT_DRUGBANK/PhD_Progress/%s_EMB.png' % name, dpi=300)\n",
    "    \n"
   ]
  },
  {
   "cell_type": "code",
   "execution_count": 205,
   "metadata": {},
   "outputs": [
    {
     "data": {
      "text/plain": [
       "Text(0.5,3.2,'la')"
      ]
     },
     "execution_count": 205,
     "metadata": {},
     "output_type": "execute_result"
    }
   ],
   "source": [
    "xx = axes[0]\n",
    "xx.set_xlabel('la')"
   ]
  },
  {
   "cell_type": "code",
   "execution_count": 197,
   "metadata": {},
   "outputs": [
    {
     "ename": "TypeError",
     "evalue": "'Text' object is not callable",
     "output_type": "error",
     "traceback": [
      "\u001b[0;31m---------------------------------------------------------------------------\u001b[0m",
      "\u001b[0;31mTypeError\u001b[0m                                 Traceback (most recent call last)",
      "\u001b[0;32m<ipython-input-197-87e5b893234f>\u001b[0m in \u001b[0;36m<module>\u001b[0;34m\u001b[0m\n\u001b[1;32m      7\u001b[0m \u001b[0;31m#ax1.ylabel('la')\u001b[0m\u001b[0;34m\u001b[0m\u001b[0;34m\u001b[0m\u001b[0;34m\u001b[0m\u001b[0m\n\u001b[1;32m      8\u001b[0m \u001b[0;31m#ax1.xlabel(\"Decision Threshold\")\u001b[0m\u001b[0;34m\u001b[0m\u001b[0;34m\u001b[0m\u001b[0;34m\u001b[0m\u001b[0m\n\u001b[0;32m----> 9\u001b[0;31m \u001b[0max1\u001b[0m\u001b[0;34m.\u001b[0m\u001b[0mtitle\u001b[0m\u001b[0;34m(\u001b[0m\u001b[0;34m\"With threshold %0.2f that gives %0.2f F1 at train edges.\"\u001b[0m \u001b[0;34m%\u001b[0m \u001b[0;34m(\u001b[0m\u001b[0mtr\u001b[0m\u001b[0;34m,\u001b[0m \u001b[0mnp\u001b[0m\u001b[0;34m.\u001b[0m\u001b[0mmax\u001b[0m\u001b[0;34m(\u001b[0m\u001b[0mfs\u001b[0m\u001b[0;34m)\u001b[0m\u001b[0;34m)\u001b[0m\u001b[0;34m)\u001b[0m\u001b[0;34m\u001b[0m\u001b[0;34m\u001b[0m\u001b[0m\n\u001b[0m\u001b[1;32m     10\u001b[0m \u001b[0;34m\u001b[0m\u001b[0m\n\u001b[1;32m     11\u001b[0m \u001b[0max2\u001b[0m\u001b[0;34m.\u001b[0m\u001b[0mplot\u001b[0m\u001b[0;34m(\u001b[0m\u001b[0madj_pred\u001b[0m\u001b[0;34m.\u001b[0m\u001b[0mravel\u001b[0m\u001b[0;34m(\u001b[0m\u001b[0;34m)\u001b[0m\u001b[0;34m)\u001b[0m\u001b[0;34m\u001b[0m\u001b[0;34m\u001b[0m\u001b[0m\n",
      "\u001b[0;31mTypeError\u001b[0m: 'Text' object is not callable"
     ]
    },
    {
     "data": {
      "image/png": "[encoded data removed]",
      "text/plain": [
       "<Figure size 720x720 with 2 Axes>"
      ]
     },
     "metadata": {
      "needs_background": "dark"
     },
     "output_type": "display_data"
    }
   ],
   "source": [
    "tr = thresholds[np.argmax(fs)]\n",
    "\n",
    "fig = plt.figure(figsize=(10,10))\n",
    "ax1 = fig.add_subplot(121)\n",
    "ax2 = fig.add_subplot(122)\n",
    "ax1.plot(thresholds, fs, \"r-\", label=\"F1\")\n",
    "#ax1.ylabel('la')\n",
    "#ax1.xlabel(\"Decision Threshold\")\n",
    "ax title(\"With threshold %0.2f that gives %0.2f F1 at train edges.\" % (tr, np.max(fs)))\n",
    "\n",
    "ax2.plot(adj_pred.ravel())\n",
    "ax2.ylabel(\"Score\")\n",
    "ax2.xlabel(\"Decision Threshold\")\n",
    "ax2.legend(loc='best')\n",
    "ax2.title(\"With threshold %0.2f that gives %0.2f F1 at train edges.\" % (tr, np.max(fs)))"
   ]
  },
  {
   "cell_type": "code",
   "execution_count": 186,
   "metadata": {},
   "outputs": [
    {
     "name": "stdout",
     "output_type": "stream",
     "text": [
      "True positive: 69507 (3.19 %)\n",
      "False positive: 304035 (13.96 %)\n",
      "False negative: 235090 (10.79 %)\n",
      "True negative: 1569944 (72.06 %)\n",
      "Total #:  2178576\n",
      "True positive rate (recall):  0.2281933177280144\n",
      "Precision:  0.1860754613938995\n",
      "F1:  0.20499337156541653\n"
     ]
    }
   ],
   "source": [
    "_, _, _ = show_metrics_pos(adj_test.ravel(), cur_.ravel())"
   ]
  },
  {
   "cell_type": "code",
   "execution_count": 254,
   "metadata": {},
   "outputs": [
    {
     "name": "stdout",
     "output_type": "stream",
     "text": [
      "(1476, 768)\n",
      "(1, 769)\n"
     ]
    }
   ],
   "source": [
    "df_emb = pd.read_csv('./Emb/CLEAN_DB_FOR_GNN_17_02/_HolE_ENT_EMB.csv')\n",
    "df_rel = pd.read_csv('./Emb/CLEAN_DB_FOR_GNN_17_02/_HolE_REL_EMB.csv')\n",
    "node_list = df_emb[df_emb.columns[-1]]\n",
    "rel_list = df_rel[df_rel.columns[-1]]\n",
    "del df_emb[df_emb.columns[-1]]\n",
    "#del df_rel[df_rel.columns[-1]]\n",
    "nodes_emb = df_emb.values\n",
    "rel_emb = df_rel.values\n",
    "print(nodes_emb.shape)\n",
    "print(rel_emb.shape)"
   ]
  },
  {
   "cell_type": "code",
   "execution_count": 249,
   "metadata": {},
   "outputs": [],
   "source": [
    "R = torch.load('./Emb/CLEAN_DB_FOR_GNN_17_02/_RESCAL_REL_MATRIX.pt', map_location=torch.device('cpu'))\n",
    "adj_pred = torch.matmul(torch.matmul(torch.Tensor(nodes_emb), R[0]), torch.Tensor(nodes_emb.T)).detach().numpy()"
   ]
  },
  {
   "cell_type": "code",
   "execution_count": 259,
   "metadata": {},
   "outputs": [],
   "source": [
    "from torchkge.utils import get_rolling_matrix\n",
    "relation_matrices = get_rolling_matrix(torch.Tensor(rel_emb))"
   ]
  },
  {
   "cell_type": "code",
   "execution_count": 268,
   "metadata": {},
   "outputs": [
    {
     "data": {
      "text/plain": [
       "0          0\n",
       "1          1\n",
       "2          2\n",
       "3          3\n",
       "4          4\n",
       "        ... \n",
       "1471    1471\n",
       "1472    1472\n",
       "1473    1473\n",
       "1474    1474\n",
       "1475    1475\n",
       "Name: ID, Length: 1476, dtype: int64"
      ]
     },
     "execution_count": 268,
     "metadata": {},
     "output_type": "execute_result"
    }
   ],
   "source": [
    "node_list"
   ]
  },
  {
   "cell_type": "code",
   "execution_count": 263,
   "metadata": {},
   "outputs": [
    {
     "ename": "RuntimeError",
     "evalue": "size mismatch, m1: [1476 x 768], m2: [769 x 769] at /opt/conda/conda-bld/pytorch_1579022030672/work/aten/src/TH/generic/THTensorMath.cpp:136",
     "output_type": "error",
     "traceback": [
      "\u001b[0;31m---------------------------------------------------------------------------\u001b[0m",
      "\u001b[0;31mRuntimeError\u001b[0m                              Traceback (most recent call last)",
      "\u001b[0;32m<ipython-input-263-b2b8daa271d6>\u001b[0m in \u001b[0;36m<module>\u001b[0;34m\u001b[0m\n\u001b[0;32m----> 1\u001b[0;31m \u001b[0madj_pred\u001b[0m \u001b[0;34m=\u001b[0m \u001b[0mtorch\u001b[0m\u001b[0;34m.\u001b[0m\u001b[0mmatmul\u001b[0m\u001b[0;34m(\u001b[0m\u001b[0mtorch\u001b[0m\u001b[0;34m.\u001b[0m\u001b[0mmatmul\u001b[0m\u001b[0;34m(\u001b[0m\u001b[0mtorch\u001b[0m\u001b[0;34m.\u001b[0m\u001b[0mTensor\u001b[0m\u001b[0;34m(\u001b[0m\u001b[0mnodes_emb\u001b[0m\u001b[0;34m)\u001b[0m\u001b[0;34m,\u001b[0m \u001b[0mrelation_matrices\u001b[0m\u001b[0;34m[\u001b[0m\u001b[0;36m0\u001b[0m\u001b[0;34m]\u001b[0m\u001b[0;34m)\u001b[0m\u001b[0;34m,\u001b[0m \u001b[0mtorch\u001b[0m\u001b[0;34m.\u001b[0m\u001b[0mTensor\u001b[0m\u001b[0;34m(\u001b[0m\u001b[0mnodes_emb\u001b[0m\u001b[0;34m.\u001b[0m\u001b[0mT\u001b[0m\u001b[0;34m)\u001b[0m\u001b[0;34m)\u001b[0m\u001b[0;34m.\u001b[0m\u001b[0mdetach\u001b[0m\u001b[0;34m(\u001b[0m\u001b[0;34m)\u001b[0m\u001b[0;34m.\u001b[0m\u001b[0mnumpy\u001b[0m\u001b[0;34m(\u001b[0m\u001b[0;34m)\u001b[0m\u001b[0;34m\u001b[0m\u001b[0;34m\u001b[0m\u001b[0m\n\u001b[0m",
      "\u001b[0;31mRuntimeError\u001b[0m: size mismatch, m1: [1476 x 768], m2: [769 x 769] at /opt/conda/conda-bld/pytorch_1579022030672/work/aten/src/TH/generic/THTensorMath.cpp:136"
     ]
    }
   ],
   "source": [
    "adj_pred = torch.matmul(torch.matmul(torch.Tensor(nodes_emb), relation_matrices[0]), torch.Tensor(nodes_emb.T)).detach().numpy()"
   ]
  },
  {
   "cell_type": "code",
   "execution_count": 256,
   "metadata": {},
   "outputs": [
    {
     "name": "stderr",
     "output_type": "stream",
     "text": [
      "/media/kostas/DATA/miniconda3/lib/python3.7/site-packages/ipykernel_launcher.py:7: TqdmDeprecationWarning: This function will be removed in tqdm==5.0.0\n",
      "Please use `tqdm.notebook.tqdm` instead of `tqdm.tqdm_notebook`\n",
      "  import sys\n"
     ]
    },
    {
     "data": {
      "application/vnd.jupyter.widget-view+json": {
       "model_id": "0583e61c23684cc881da64322d5fe480",
       "version_major": 2,
       "version_minor": 0
      },
      "text/plain": [
       "HBox(children=(FloatProgress(value=0.0), HTML(value='')))"
      ]
     },
     "metadata": {},
     "output_type": "display_data"
    },
    {
     "name": "stdout",
     "output_type": "stream",
     "text": [
      "\n"
     ]
    },
    {
     "name": "stderr",
     "output_type": "stream",
     "text": [
      "/media/kostas/DATA/miniconda3/lib/python3.7/site-packages/ipykernel_launcher.py:22: RuntimeWarning: invalid value encountered in long_scalars\n"
     ]
    },
    {
     "ename": "ValueError",
     "evalue": "x and y must have same first dimension, but have shapes (100,) and (200,)",
     "output_type": "error",
     "traceback": [
      "\u001b[0;31m---------------------------------------------------------------------------\u001b[0m",
      "\u001b[0;31mValueError\u001b[0m                                Traceback (most recent call last)",
      "\u001b[0;32m<ipython-input-256-f909c2cc7d31>\u001b[0m in \u001b[0;36m<module>\u001b[0;34m\u001b[0m\n\u001b[1;32m     17\u001b[0m \u001b[0mtr\u001b[0m \u001b[0;34m=\u001b[0m \u001b[0mthresholds\u001b[0m\u001b[0;34m[\u001b[0m\u001b[0mnp\u001b[0m\u001b[0;34m.\u001b[0m\u001b[0margmax\u001b[0m\u001b[0;34m(\u001b[0m\u001b[0mfs\u001b[0m\u001b[0;34m)\u001b[0m\u001b[0;34m]\u001b[0m\u001b[0;34m\u001b[0m\u001b[0;34m\u001b[0m\u001b[0m\n\u001b[1;32m     18\u001b[0m \u001b[0mplt\u001b[0m\u001b[0;34m.\u001b[0m\u001b[0mfigure\u001b[0m\u001b[0;34m(\u001b[0m\u001b[0mfigsize\u001b[0m\u001b[0;34m=\u001b[0m\u001b[0;34m(\u001b[0m\u001b[0;36m8\u001b[0m\u001b[0;34m,\u001b[0m \u001b[0;36m8\u001b[0m\u001b[0;34m)\u001b[0m\u001b[0;34m)\u001b[0m\u001b[0;34m\u001b[0m\u001b[0;34m\u001b[0m\u001b[0m\n\u001b[0;32m---> 19\u001b[0;31m \u001b[0mplt\u001b[0m\u001b[0;34m.\u001b[0m\u001b[0mplot\u001b[0m\u001b[0;34m(\u001b[0m\u001b[0mthresholds\u001b[0m\u001b[0;34m,\u001b[0m \u001b[0mfs\u001b[0m\u001b[0;34m,\u001b[0m \u001b[0;34m\"r-\"\u001b[0m\u001b[0;34m,\u001b[0m \u001b[0mlabel\u001b[0m\u001b[0;34m=\u001b[0m\u001b[0;34m\"F1\"\u001b[0m\u001b[0;34m)\u001b[0m\u001b[0;34m\u001b[0m\u001b[0;34m\u001b[0m\u001b[0m\n\u001b[0m\u001b[1;32m     20\u001b[0m \u001b[0mplt\u001b[0m\u001b[0;34m.\u001b[0m\u001b[0mylabel\u001b[0m\u001b[0;34m(\u001b[0m\u001b[0;34m\"Score\"\u001b[0m\u001b[0;34m)\u001b[0m\u001b[0;34m\u001b[0m\u001b[0;34m\u001b[0m\u001b[0m\n\u001b[1;32m     21\u001b[0m \u001b[0mplt\u001b[0m\u001b[0;34m.\u001b[0m\u001b[0mxlabel\u001b[0m\u001b[0;34m(\u001b[0m\u001b[0;34m\"Decision Threshold\"\u001b[0m\u001b[0;34m)\u001b[0m\u001b[0;34m\u001b[0m\u001b[0;34m\u001b[0m\u001b[0m\n",
      "\u001b[0;32m/media/kostas/DATA/miniconda3/lib/python3.7/site-packages/matplotlib/pyplot.py\u001b[0m in \u001b[0;36mplot\u001b[0;34m(*args, **kwargs)\u001b[0m\n\u001b[1;32m   3361\u001b[0m                       mplDeprecation)\n\u001b[1;32m   3362\u001b[0m     \u001b[0;32mtry\u001b[0m\u001b[0;34m:\u001b[0m\u001b[0;34m\u001b[0m\u001b[0;34m\u001b[0m\u001b[0m\n\u001b[0;32m-> 3363\u001b[0;31m         \u001b[0mret\u001b[0m \u001b[0;34m=\u001b[0m \u001b[0max\u001b[0m\u001b[0;34m.\u001b[0m\u001b[0mplot\u001b[0m\u001b[0;34m(\u001b[0m\u001b[0;34m*\u001b[0m\u001b[0margs\u001b[0m\u001b[0;34m,\u001b[0m \u001b[0;34m**\u001b[0m\u001b[0mkwargs\u001b[0m\u001b[0;34m)\u001b[0m\u001b[0;34m\u001b[0m\u001b[0;34m\u001b[0m\u001b[0m\n\u001b[0m\u001b[1;32m   3364\u001b[0m     \u001b[0;32mfinally\u001b[0m\u001b[0;34m:\u001b[0m\u001b[0;34m\u001b[0m\u001b[0;34m\u001b[0m\u001b[0m\n\u001b[1;32m   3365\u001b[0m         \u001b[0max\u001b[0m\u001b[0;34m.\u001b[0m\u001b[0m_hold\u001b[0m \u001b[0;34m=\u001b[0m \u001b[0mwashold\u001b[0m\u001b[0;34m\u001b[0m\u001b[0;34m\u001b[0m\u001b[0m\n",
      "\u001b[0;32m/media/kostas/DATA/miniconda3/lib/python3.7/site-packages/matplotlib/__init__.py\u001b[0m in \u001b[0;36minner\u001b[0;34m(ax, *args, **kwargs)\u001b[0m\n\u001b[1;32m   1865\u001b[0m                         \u001b[0;34m\"the Matplotlib list!)\"\u001b[0m \u001b[0;34m%\u001b[0m \u001b[0;34m(\u001b[0m\u001b[0mlabel_namer\u001b[0m\u001b[0;34m,\u001b[0m \u001b[0mfunc\u001b[0m\u001b[0;34m.\u001b[0m\u001b[0m__name__\u001b[0m\u001b[0;34m)\u001b[0m\u001b[0;34m,\u001b[0m\u001b[0;34m\u001b[0m\u001b[0;34m\u001b[0m\u001b[0m\n\u001b[1;32m   1866\u001b[0m                         RuntimeWarning, stacklevel=2)\n\u001b[0;32m-> 1867\u001b[0;31m             \u001b[0;32mreturn\u001b[0m \u001b[0mfunc\u001b[0m\u001b[0;34m(\u001b[0m\u001b[0max\u001b[0m\u001b[0;34m,\u001b[0m \u001b[0;34m*\u001b[0m\u001b[0margs\u001b[0m\u001b[0;34m,\u001b[0m \u001b[0;34m**\u001b[0m\u001b[0mkwargs\u001b[0m\u001b[0;34m)\u001b[0m\u001b[0;34m\u001b[0m\u001b[0;34m\u001b[0m\u001b[0m\n\u001b[0m\u001b[1;32m   1868\u001b[0m \u001b[0;34m\u001b[0m\u001b[0m\n\u001b[1;32m   1869\u001b[0m         inner.__doc__ = _add_data_doc(inner.__doc__,\n",
      "\u001b[0;32m/media/kostas/DATA/miniconda3/lib/python3.7/site-packages/matplotlib/axes/_axes.py\u001b[0m in \u001b[0;36mplot\u001b[0;34m(self, *args, **kwargs)\u001b[0m\n\u001b[1;32m   1526\u001b[0m         \u001b[0mkwargs\u001b[0m \u001b[0;34m=\u001b[0m \u001b[0mcbook\u001b[0m\u001b[0;34m.\u001b[0m\u001b[0mnormalize_kwargs\u001b[0m\u001b[0;34m(\u001b[0m\u001b[0mkwargs\u001b[0m\u001b[0;34m,\u001b[0m \u001b[0m_alias_map\u001b[0m\u001b[0;34m)\u001b[0m\u001b[0;34m\u001b[0m\u001b[0;34m\u001b[0m\u001b[0m\n\u001b[1;32m   1527\u001b[0m \u001b[0;34m\u001b[0m\u001b[0m\n\u001b[0;32m-> 1528\u001b[0;31m         \u001b[0;32mfor\u001b[0m \u001b[0mline\u001b[0m \u001b[0;32min\u001b[0m \u001b[0mself\u001b[0m\u001b[0;34m.\u001b[0m\u001b[0m_get_lines\u001b[0m\u001b[0;34m(\u001b[0m\u001b[0;34m*\u001b[0m\u001b[0margs\u001b[0m\u001b[0;34m,\u001b[0m \u001b[0;34m**\u001b[0m\u001b[0mkwargs\u001b[0m\u001b[0;34m)\u001b[0m\u001b[0;34m:\u001b[0m\u001b[0;34m\u001b[0m\u001b[0;34m\u001b[0m\u001b[0m\n\u001b[0m\u001b[1;32m   1529\u001b[0m             \u001b[0mself\u001b[0m\u001b[0;34m.\u001b[0m\u001b[0madd_line\u001b[0m\u001b[0;34m(\u001b[0m\u001b[0mline\u001b[0m\u001b[0;34m)\u001b[0m\u001b[0;34m\u001b[0m\u001b[0;34m\u001b[0m\u001b[0m\n\u001b[1;32m   1530\u001b[0m             \u001b[0mlines\u001b[0m\u001b[0;34m.\u001b[0m\u001b[0mappend\u001b[0m\u001b[0;34m(\u001b[0m\u001b[0mline\u001b[0m\u001b[0;34m)\u001b[0m\u001b[0;34m\u001b[0m\u001b[0;34m\u001b[0m\u001b[0m\n",
      "\u001b[0;32m/media/kostas/DATA/miniconda3/lib/python3.7/site-packages/matplotlib/axes/_base.py\u001b[0m in \u001b[0;36m_grab_next_args\u001b[0;34m(self, *args, **kwargs)\u001b[0m\n\u001b[1;32m    404\u001b[0m                 \u001b[0mthis\u001b[0m \u001b[0;34m+=\u001b[0m \u001b[0margs\u001b[0m\u001b[0;34m[\u001b[0m\u001b[0;36m0\u001b[0m\u001b[0;34m]\u001b[0m\u001b[0;34m,\u001b[0m\u001b[0;34m\u001b[0m\u001b[0;34m\u001b[0m\u001b[0m\n\u001b[1;32m    405\u001b[0m                 \u001b[0margs\u001b[0m \u001b[0;34m=\u001b[0m \u001b[0margs\u001b[0m\u001b[0;34m[\u001b[0m\u001b[0;36m1\u001b[0m\u001b[0;34m:\u001b[0m\u001b[0;34m]\u001b[0m\u001b[0;34m\u001b[0m\u001b[0;34m\u001b[0m\u001b[0m\n\u001b[0;32m--> 406\u001b[0;31m             \u001b[0;32mfor\u001b[0m \u001b[0mseg\u001b[0m \u001b[0;32min\u001b[0m \u001b[0mself\u001b[0m\u001b[0;34m.\u001b[0m\u001b[0m_plot_args\u001b[0m\u001b[0;34m(\u001b[0m\u001b[0mthis\u001b[0m\u001b[0;34m,\u001b[0m \u001b[0mkwargs\u001b[0m\u001b[0;34m)\u001b[0m\u001b[0;34m:\u001b[0m\u001b[0;34m\u001b[0m\u001b[0;34m\u001b[0m\u001b[0m\n\u001b[0m\u001b[1;32m    407\u001b[0m                 \u001b[0;32myield\u001b[0m \u001b[0mseg\u001b[0m\u001b[0;34m\u001b[0m\u001b[0;34m\u001b[0m\u001b[0m\n\u001b[1;32m    408\u001b[0m \u001b[0;34m\u001b[0m\u001b[0m\n",
      "\u001b[0;32m/media/kostas/DATA/miniconda3/lib/python3.7/site-packages/matplotlib/axes/_base.py\u001b[0m in \u001b[0;36m_plot_args\u001b[0;34m(self, tup, kwargs)\u001b[0m\n\u001b[1;32m    381\u001b[0m             \u001b[0mx\u001b[0m\u001b[0;34m,\u001b[0m \u001b[0my\u001b[0m \u001b[0;34m=\u001b[0m \u001b[0mindex_of\u001b[0m\u001b[0;34m(\u001b[0m\u001b[0mtup\u001b[0m\u001b[0;34m[\u001b[0m\u001b[0;34m-\u001b[0m\u001b[0;36m1\u001b[0m\u001b[0;34m]\u001b[0m\u001b[0;34m)\u001b[0m\u001b[0;34m\u001b[0m\u001b[0;34m\u001b[0m\u001b[0m\n\u001b[1;32m    382\u001b[0m \u001b[0;34m\u001b[0m\u001b[0m\n\u001b[0;32m--> 383\u001b[0;31m         \u001b[0mx\u001b[0m\u001b[0;34m,\u001b[0m \u001b[0my\u001b[0m \u001b[0;34m=\u001b[0m \u001b[0mself\u001b[0m\u001b[0;34m.\u001b[0m\u001b[0m_xy_from_xy\u001b[0m\u001b[0;34m(\u001b[0m\u001b[0mx\u001b[0m\u001b[0;34m,\u001b[0m \u001b[0my\u001b[0m\u001b[0;34m)\u001b[0m\u001b[0;34m\u001b[0m\u001b[0;34m\u001b[0m\u001b[0m\n\u001b[0m\u001b[1;32m    384\u001b[0m \u001b[0;34m\u001b[0m\u001b[0m\n\u001b[1;32m    385\u001b[0m         \u001b[0;32mif\u001b[0m \u001b[0mself\u001b[0m\u001b[0;34m.\u001b[0m\u001b[0mcommand\u001b[0m \u001b[0;34m==\u001b[0m \u001b[0;34m'plot'\u001b[0m\u001b[0;34m:\u001b[0m\u001b[0;34m\u001b[0m\u001b[0;34m\u001b[0m\u001b[0m\n",
      "\u001b[0;32m/media/kostas/DATA/miniconda3/lib/python3.7/site-packages/matplotlib/axes/_base.py\u001b[0m in \u001b[0;36m_xy_from_xy\u001b[0;34m(self, x, y)\u001b[0m\n\u001b[1;32m    240\u001b[0m         \u001b[0;32mif\u001b[0m \u001b[0mx\u001b[0m\u001b[0;34m.\u001b[0m\u001b[0mshape\u001b[0m\u001b[0;34m[\u001b[0m\u001b[0;36m0\u001b[0m\u001b[0;34m]\u001b[0m \u001b[0;34m!=\u001b[0m \u001b[0my\u001b[0m\u001b[0;34m.\u001b[0m\u001b[0mshape\u001b[0m\u001b[0;34m[\u001b[0m\u001b[0;36m0\u001b[0m\u001b[0;34m]\u001b[0m\u001b[0;34m:\u001b[0m\u001b[0;34m\u001b[0m\u001b[0;34m\u001b[0m\u001b[0m\n\u001b[1;32m    241\u001b[0m             raise ValueError(\"x and y must have same first dimension, but \"\n\u001b[0;32m--> 242\u001b[0;31m                              \"have shapes {} and {}\".format(x.shape, y.shape))\n\u001b[0m\u001b[1;32m    243\u001b[0m         \u001b[0;32mif\u001b[0m \u001b[0mx\u001b[0m\u001b[0;34m.\u001b[0m\u001b[0mndim\u001b[0m \u001b[0;34m>\u001b[0m \u001b[0;36m2\u001b[0m \u001b[0;32mor\u001b[0m \u001b[0my\u001b[0m\u001b[0;34m.\u001b[0m\u001b[0mndim\u001b[0m \u001b[0;34m>\u001b[0m \u001b[0;36m2\u001b[0m\u001b[0;34m:\u001b[0m\u001b[0;34m\u001b[0m\u001b[0;34m\u001b[0m\u001b[0m\n\u001b[1;32m    244\u001b[0m             raise ValueError(\"x and y can be no greater than 2-D, but have \"\n",
      "\u001b[0;31mValueError\u001b[0m: x and y must have same first dimension, but have shapes (100,) and (200,)"
     ]
    },
    {
     "data": {
      "image/png": "[encoded data removed]",
      "text/plain": [
       "<Figure size 576x576 with 1 Axes>"
      ]
     },
     "metadata": {
      "needs_background": "dark"
     },
     "output_type": "display_data"
    }
   ],
   "source": [
    "\n",
    "\n",
    "#adj_pred = np.array(y_pred).reshape(adj_test.shape)\n",
    "adj_pred = torch.matmul(torch.matmul(torch.Tensor(nodes_emb), R[0]), torch.Tensor(nodes_emb.T)).detach().numpy()\n",
    "thresholds = np.linspace(np.min(adj_pred), np.max(adj_pred), 100)\n",
    "#adj_pred.fill_diagonal(np.max(adj_pred))\n",
    "for tr in tqdm_notebook(thresholds):\n",
    "    cur_ = adj_pred.copy()\n",
    "    cur_ = (cur_ > tr).astype(np.int_)\n",
    "    #cur_[cur_>= tr] = 0\n",
    "    #cur_[cur_< tr] = 1\n",
    "    #print(tr)\n",
    "    #print(cur_.sum())\n",
    "    _, _, f = show_metrics_pos(adj_train.ravel(), cur_.ravel(), print_=False)\n",
    "    fs.append(f)\n",
    "\n",
    "tr = thresholds[np.argmax(fs)]\n",
    "plt.figure(figsize=(8, 8))\n",
    "plt.plot(thresholds, fs, \"r-\", label=\"F1\")\n",
    "plt.ylabel(\"Score\")\n",
    "plt.xlabel(\"Decision Threshold\")\n",
    "plt.legend(loc='best')\n",
    "plt.title(\"With threshold %0.2f that gives %0.2f F1 at train edges.\" % (tr, np.max(fs)))\n",
    "\n",
    "# Binarize\n",
    "cur_ = adj_pred.copy().reshape(adj_test.shape)\n",
    "#np.fill_diagonal(cur_, np.max(cur_))\n",
    "cur_ = (cur_ > tr).astype(np.int_)\n",
    "_, _, _ = show_metrics_pos(adj_test.ravel(), cur_.ravel())"
   ]
  },
  {
   "cell_type": "code",
   "execution_count": 251,
   "metadata": {},
   "outputs": [
    {
     "data": {
      "image/png": "[encoded data removed]",
      "text/plain": [
       "<Figure size 720x360 with 2 Axes>"
      ]
     },
     "metadata": {
      "needs_background": "dark"
     },
     "output_type": "display_data"
    }
   ],
   "source": [
    "plot_dist('RESCAL_PRE', thresholds, fs, adj_pred)"
   ]
  },
  {
   "cell_type": "code",
   "execution_count": 178,
   "metadata": {},
   "outputs": [
    {
     "data": {
      "text/plain": [
       "array([[0, 0, 1, ..., 0, 0, 1],\n",
       "       [0, 0, 0, ..., 0, 0, 0],\n",
       "       [0, 0, 0, ..., 0, 0, 0],\n",
       "       ...,\n",
       "       [0, 1, 0, ..., 0, 0, 0],\n",
       "       [0, 1, 0, ..., 0, 0, 0],\n",
       "       [0, 0, 0, ..., 0, 0, 0]], dtype=int8)"
      ]
     },
     "execution_count": 178,
     "metadata": {},
     "output_type": "execute_result"
    }
   ],
   "source": [
    "adj_test"
   ]
  },
  {
   "cell_type": "code",
   "execution_count": null,
   "metadata": {},
   "outputs": [],
   "source": []
  }
 ],
 "metadata": {
  "kernelspec": {
   "display_name": "Python [conda env:root] *",
   "language": "python",
   "name": "conda-root-py"
  },
  "language_info": {
   "codemirror_mode": {
    "name": "ipython",
    "version": 3
   },
   "file_extension": ".py",
   "mimetype": "text/x-python",
   "name": "python",
   "nbconvert_exporter": "python",
   "pygments_lexer": "ipython3",
   "version": "3.7.6"
  }
 },
 "nbformat": 4,
 "nbformat_minor": 4
}
