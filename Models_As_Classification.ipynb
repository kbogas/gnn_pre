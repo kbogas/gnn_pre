{
 "cells": [
  {
   "cell_type": "code",
   "execution_count": 1,
   "metadata": {},
   "outputs": [],
   "source": [
    "import pandas as pd\n",
    "import json\n",
    "import os\n",
    "from tqdm import tqdm_notebook\n",
    "\n",
    "import matplotlib.pyplot as plt\n",
    "%matplotlib inline\n",
    "plt.style.use('dark_background')\n",
    "\n",
    "root_file = './data/CLEAN_DB_FOR_GNN_17_02/'\n",
    "train = pd.read_csv(os.path.join(root_file, 'train.txt'), header=None, names=['h', 'r', 't'])\n",
    "test = pd.read_csv(os.path.join(root_file, 'test.txt'), header=None, names=['h', 'r', 't'])\n",
    "map_ = pd.read_csv(os.path.join(root_file, 'DB_Bert_Emb_INT__MAPPING.csv'))\n",
    "db2index = dict(zip(map_.DB_ID, map_.INDEX))\n",
    "index2db = dict(zip(map_.INDEX, map_.DB_ID))\n",
    "emb_ = pd.read_csv(os.path.join(root_file, 'DB_Bert_Emb_INT.csv'))\n",
    "mapping = {}\n",
    "for i, row in emb_.iterrows():\n",
    "    mapping[row['DB_ID']] = row[:-1].values\n",
    "db_ids = db2index.keys()\n",
    "assert len(set(index2db.keys()).difference(train['h'].unique().tolist()+train['t'].unique().tolist()+test['h'].unique().tolist()+test['t'].unique().tolist())) == 0"
   ]
  },
  {
   "cell_type": "code",
   "execution_count": 2,
   "metadata": {},
   "outputs": [
    {
     "name": "stdout",
     "output_type": "stream",
     "text": [
      "UNIQUE NODES: 1476\n"
     ]
    }
   ],
   "source": [
    "print(\"UNIQUE NODES: %d\" % (len(db2index)))"
   ]
  },
  {
   "cell_type": "code",
   "execution_count": 3,
   "metadata": {},
   "outputs": [
    {
     "ename": "ModuleNotFoundError",
     "evalue": "No module named 'faiss'",
     "output_type": "error",
     "traceback": [
      "\u001b[0;31m---------------------------------------------------------------------------\u001b[0m",
      "\u001b[0;31mModuleNotFoundError\u001b[0m                       Traceback (most recent call last)",
      "\u001b[0;32m<ipython-input-3-7d111cca0589>\u001b[0m in \u001b[0;36m<module>\u001b[0;34m\u001b[0m\n\u001b[1;32m      1\u001b[0m \u001b[0;32mimport\u001b[0m \u001b[0mtqdm\u001b[0m\u001b[0;34m\u001b[0m\u001b[0;34m\u001b[0m\u001b[0m\n\u001b[1;32m      2\u001b[0m \u001b[0;32mimport\u001b[0m \u001b[0mrandom\u001b[0m\u001b[0;34m\u001b[0m\u001b[0;34m\u001b[0m\u001b[0m\n\u001b[0;32m----> 3\u001b[0;31m \u001b[0;32mimport\u001b[0m \u001b[0mfaiss\u001b[0m                   \u001b[0;31m# make faiss available\u001b[0m\u001b[0;34m\u001b[0m\u001b[0;34m\u001b[0m\u001b[0m\n\u001b[0m\u001b[1;32m      4\u001b[0m \u001b[0;32mimport\u001b[0m \u001b[0mnumpy\u001b[0m \u001b[0;32mas\u001b[0m \u001b[0mnp\u001b[0m\u001b[0;34m\u001b[0m\u001b[0;34m\u001b[0m\u001b[0m\n\u001b[1;32m      5\u001b[0m \u001b[0;32mfrom\u001b[0m \u001b[0mfaiss\u001b[0m \u001b[0;32mimport\u001b[0m \u001b[0mpairwise_distances\u001b[0m\u001b[0;34m\u001b[0m\u001b[0;34m\u001b[0m\u001b[0m\n",
      "\u001b[0;31mModuleNotFoundError\u001b[0m: No module named 'faiss'"
     ]
    }
   ],
   "source": [
    "import tqdm\n",
    "import random\n",
    "import faiss                   # make faiss available\n",
    "import numpy as np\n",
    "from faiss import pairwise_distances\n",
    "\n",
    "\n",
    "X_all = []\n",
    "for _, row in emb_.iterrows():\n",
    "    X_all.append(row.values[:-1].reshape(-1))\n",
    "X_all = np.ascontiguousarray(np.array(X_all), dtype=np.float32)\n",
    "dim_size = row[:-1].values.size\n",
    "index = faiss.IndexFlatL2(dim_size)   # build the index\n",
    "index.add(X_all)\n",
    "distances = pairwise_distances(X_all, X_all)"
   ]
  },
  {
   "cell_type": "code",
   "execution_count": null,
   "metadata": {},
   "outputs": [],
   "source": [
    "pairs = train['h'].astype(str) + '_' + train['t'].astype(str)\n",
    "x_train_pairs = list(set(pairs))\n",
    "print(len(pairs), len(x_train_pairs))\n",
    "\n",
    "pairs = test['h'].astype(str) + '_' + test['t'].astype(str)\n",
    "x_test_pairs = list(set(pairs))\n",
    "print(len(pairs), len(x_test_pairs))"
   ]
  },
  {
   "cell_type": "code",
   "execution_count": null,
   "metadata": {},
   "outputs": [],
   "source": [
    "pairs = train['h'].astype(str) + '_' + train['t'].astype(str)\n",
    "x_train_pairs = list(set(pairs))\n",
    "print(len(pairs), len(x_train_pairs))\n",
    "\n",
    "pairs = test['h'].astype(str) + '_' + test['t'].astype(str)\n",
    "x_test_pairs = list(set(pairs))\n",
    "print(len(pairs), len(x_test_pairs))\n",
    "\n",
    "\n",
    "import numpy as np\n",
    "def get_sparsity(A):\n",
    "    return 1.0 - ( np.count_nonzero(A) / float(A.size) )\n",
    "\n",
    "# Adj matrix (train)\n",
    "\n",
    "adj_train = np.zeros((len(db_ids), len(db_ids)), dtype=np.int8)\n",
    "for item in x_train_pairs:\n",
    "    splits = item.split(\"_\")\n",
    "    try:\n",
    "        adj_train[int(splits[0]), int(splits[1])] = 1\n",
    "    except KeyError:\n",
    "        continue\n",
    "        \n",
    "        \n",
    "print(\"Sparsity Train: %0.2f%%\"%(100*get_sparsity(adj_train)))\n",
    "\n",
    "adj_test = np.zeros((len(db_ids), len(db_ids)), dtype=np.int8)\n",
    "for item in x_test_pairs:\n",
    "    splits = item.split(\"_\")\n",
    "    try:\n",
    "        adj_test[int(splits[0]), int(splits[1])] = 1\n",
    "    except KeyError:\n",
    "        continue\n",
    "\n",
    "print(\"Sparsity Test: %0.2f%%\"%(100*get_sparsity(adj_test)))\n",
    "\n",
    "adj_all = np.zeros_like(adj_train, dtype=np.int8)\n",
    "adj_all = adj_train + adj_test\n",
    "adj_all = np.clip(adj_all, 0, 1)\n",
    "print(\"Sparsity Total: %0.2f%%\"%(100*get_sparsity(adj_all)))"
   ]
  },
  {
   "cell_type": "code",
   "execution_count": null,
   "metadata": {},
   "outputs": [],
   "source": [
    "labels = distances*(adj_train + adj_test)\n",
    "labels[labels>0] = 1\n",
    "labels = labels.astype(np.int8, copy=False)\n",
    "print(\"Sparsity of labels: %0.2f %%\" % (100*get_sparsity(labels)))"
   ]
  },
  {
   "cell_type": "markdown",
   "metadata": {},
   "source": [
    "# Get classification results for the dummy cases. a) All test yes, b) Random"
   ]
  },
  {
   "cell_type": "code",
   "execution_count": 7,
   "metadata": {},
   "outputs": [],
   "source": [
    "import numpy as np\n",
    "def show_metrics_pos(y_true, y_score, wanted_indexes=None, print_=True, neg_label=0, pos_label=1):\n",
    "    if wanted_indexes:\n",
    "        y_true = y_true[wanted_indexes]\n",
    "        y_score = y_score[wanted_indexes]\n",
    "    if neg_label != 0:\n",
    "        y_true[y_true==neg_label] = 0\n",
    "        y_score[y_score==neg_label] = 0\n",
    "    if pos_label != 1:\n",
    "        y_true[y_true==pos_label] = 1\n",
    "        y_score[y_score==pos_label] = 1\n",
    "    # True positive\n",
    "    tp = np.sum(y_true * y_score)\n",
    "    # False positive\n",
    "    fp = np.sum((y_true == 0) * y_score)\n",
    "    # False negative\n",
    "    fn = np.sum(y_true * (y_score==0))\n",
    "    # tn\n",
    "    tn = np.sum((y_true == 0) * (y_score==0))\n",
    "    # True positive rate (sensitivity or recall)\n",
    "    tpr = tp / (tp + fn)\n",
    "    # Precision\n",
    "    precision = tp / (tp + fp)\n",
    "    # F1 score\n",
    "    f1 = 2*tp / (2*tp + fp + fn)\n",
    "#     print(\"True positive: \", tp)\n",
    "#     print(\"False positive: \", fp)\n",
    "#     print(\"False negative: \", fn)\n",
    "    total = tp + fp +fn +tn\n",
    "    if print_:\n",
    "        print(\"True positive: %d (%0.2f %%)\" % (tp, 100*float(tp)/total))\n",
    "        print(\"False positive: %d (%0.2f %%)\" % (fp, 100*float(fp)/total))\n",
    "        print(\"False negative: %d (%0.2f %%)\" % (fn, 100*fn/total))\n",
    "        print(\"True negative: %d (%0.2f %%)\" % (tn, 100*tn/total))\n",
    "        print(\"Total #: \", total)\n",
    "        print(\"True positive rate (recall): \", tpr)\n",
    "        print(\"Precision: \", precision)\n",
    "        print(\"F1: \", f1)\n",
    "    return precision, tpr, f1"
   ]
  },
  {
   "cell_type": "markdown",
   "metadata": {},
   "source": [
    "## a) All test yes"
   ]
  },
  {
   "cell_type": "code",
   "execution_count": 8,
   "metadata": {},
   "outputs": [
    {
     "ename": "NameError",
     "evalue": "name 'adj_test' is not defined",
     "output_type": "error",
     "traceback": [
      "\u001b[0;31m---------------------------------------------------------------------------\u001b[0m",
      "\u001b[0;31mNameError\u001b[0m                                 Traceback (most recent call last)",
      "\u001b[0;32m<ipython-input-8-2c8f7deefc37>\u001b[0m in \u001b[0;36m<module>\u001b[0;34m\u001b[0m\n\u001b[0;32m----> 1\u001b[0;31m \u001b[0madj_all_yes\u001b[0m \u001b[0;34m=\u001b[0m \u001b[0mnp\u001b[0m\u001b[0;34m.\u001b[0m\u001b[0mones_like\u001b[0m\u001b[0;34m(\u001b[0m\u001b[0madj_test\u001b[0m\u001b[0;34m)\u001b[0m\u001b[0;34m\u001b[0m\u001b[0;34m\u001b[0m\u001b[0m\n\u001b[0m\u001b[1;32m      2\u001b[0m \u001b[0m_\u001b[0m\u001b[0;34m,\u001b[0m \u001b[0m_\u001b[0m\u001b[0;34m,\u001b[0m \u001b[0m_\u001b[0m \u001b[0;34m=\u001b[0m \u001b[0mshow_metrics_pos\u001b[0m\u001b[0;34m(\u001b[0m\u001b[0madj_test\u001b[0m\u001b[0;34m.\u001b[0m\u001b[0mravel\u001b[0m\u001b[0;34m(\u001b[0m\u001b[0;34m)\u001b[0m\u001b[0;34m,\u001b[0m \u001b[0madj_all_yes\u001b[0m\u001b[0;34m.\u001b[0m\u001b[0mravel\u001b[0m\u001b[0;34m(\u001b[0m\u001b[0;34m)\u001b[0m\u001b[0;34m)\u001b[0m\u001b[0;34m\u001b[0m\u001b[0;34m\u001b[0m\u001b[0m\n",
      "\u001b[0;31mNameError\u001b[0m: name 'adj_test' is not defined"
     ]
    }
   ],
   "source": [
    "adj_all_yes = np.ones_like(adj_test)\n",
    "_, _, _ = show_metrics_pos(adj_test.ravel(), adj_all_yes.ravel())"
   ]
  },
  {
   "cell_type": "markdown",
   "metadata": {},
   "source": [
    "## b) Random"
   ]
  },
  {
   "cell_type": "code",
   "execution_count": 9,
   "metadata": {},
   "outputs": [
    {
     "data": {
      "application/vnd.jupyter.widget-view+json": {
       "model_id": "8d8cbbb88a4649f59d26bd9956a22014",
       "version_major": 2,
       "version_minor": 0
      },
      "text/plain": [
       "HBox(children=(IntProgress(value=0, max=10), HTML(value='')))"
      ]
     },
     "metadata": {},
     "output_type": "display_data"
    },
    {
     "name": "stdout",
     "output_type": "stream",
     "text": [
      "\n",
      "True positive rate (recall):  0.49980662974356277\n",
      "Precision:  0.13974803888486947\n",
      "F1:  0.21842383388441325\n"
     ]
    }
   ],
   "source": [
    "# Get average over N-runs\n",
    "pre, rec, f1 = 0, 0, 0\n",
    "n_runs = 10\n",
    "for i in tqdm_notebook(range(n_runs)):\n",
    "    adj_random = np.random.random(adj_test.shape)\n",
    "    adj_random[adj_random>=0.5] = 1\n",
    "    adj_random[adj_random<0.5] = 0\n",
    "    p, r, f = show_metrics_pos(adj_test.ravel(), adj_random.ravel(), print_=False)\n",
    "    pre += p\n",
    "    rec += r\n",
    "    f1 += f\n",
    "print(\"True positive rate (recall): \", rec/float(n_runs))\n",
    "print(\"Precision: \", pre/float(n_runs))\n",
    "print(\"F1: \", f1/float(n_runs))"
   ]
  },
  {
   "cell_type": "markdown",
   "metadata": {},
   "source": [
    "# Get popular model"
   ]
  },
  {
   "cell_type": "code",
   "execution_count": 10,
   "metadata": {},
   "outputs": [
    {
     "data": {
      "text/plain": [
       "Text(648, 0.6000000000000001, '90.00% at \\n748 drugs')"
      ]
     },
     "execution_count": 10,
     "metadata": {},
     "output_type": "execute_result"
    },
    {
     "data": {
      "image/png": "[encoded data removed]",
      "text/plain": [
       "<Figure size 432x288 with 1 Axes>"
      ]
     },
     "metadata": {
      "needs_background": "dark"
     },
     "output_type": "display_data"
    }
   ],
   "source": [
    "pop_ = np.sum(adj_train, axis=0)/float(np.sum(adj_train))\n",
    "pop_sum = np.cumsum(np.sort(pop_)[::-1])\n",
    "\n",
    "plt.plot(pop_sum)\n",
    "tr = 0.9\n",
    "ind = np.argwhere(pop_sum >= tr)[0][0]\n",
    "plt.annotate('%0.2f%% at \\n%d drugs' % (100*tr, ind), xy=(ind, tr), xytext=(ind-100, tr-0.3), arrowprops=dict(facecolor='black', shrink=0.05),)"
   ]
  },
  {
   "cell_type": "code",
   "execution_count": 11,
   "metadata": {},
   "outputs": [
    {
     "name": "stdout",
     "output_type": "stream",
     "text": [
      "True positive:  336210\n",
      "False positive:  1871138\n",
      "False negative:  57944\n",
      "True negative:  472040\n",
      "Total #:  2737332\n",
      "True positive rate (recall):  0.8529914703390046\n",
      "Precision:  0.15231399851767824\n",
      "F1:  0.25847375862098126\n"
     ]
    },
    {
     "data": {
      "text/plain": [
       "(0.15231399851767824, 0.8529914703390046, 0.25847375862098126)"
      ]
     },
     "execution_count": 11,
     "metadata": {},
     "output_type": "execute_result"
    }
   ],
   "source": [
    "# Keep indexes of wanted drugs\n",
    "indexes_of_popular_drugs = np.argsort(pop_)[::-1][:ind]\n",
    "adj_popular = np.zeros_like(adj_test)\n",
    "# All rows of these drugs are 1s\n",
    "adj_popular[indexes_of_popular_drugs,:] = 1\n",
    "# assert for sanity\n",
    "assert ind*len(adj_popular) == adj_popular.sum()\n",
    "# Symmetrize\n",
    "adj_popular = adj_popular + adj_popular.T - np.diag(adj_popular.diagonal())\n",
    "show_metrics_pos(adj_test.ravel(), adj_popular.ravel())"
   ]
  },
  {
   "cell_type": "markdown",
   "metadata": {},
   "source": [
    "## Plot F1-score as function of the number of the kept models"
   ]
  },
  {
   "cell_type": "code",
   "execution_count": 12,
   "metadata": {},
   "outputs": [
    {
     "data": {
      "application/vnd.jupyter.widget-view+json": {
       "model_id": "51aeeab1dbe148f1ab01387bdad77b0f",
       "version_major": 2,
       "version_minor": 0
      },
      "text/plain": [
       "HBox(children=(IntProgress(value=0), HTML(value='')))"
      ]
     },
     "metadata": {},
     "output_type": "display_data"
    },
    {
     "name": "stdout",
     "output_type": "stream",
     "text": [
      "\n"
     ]
    }
   ],
   "source": [
    "# Keep indexes of wanted drugs\n",
    "logs = []\n",
    "for i in tqdm_notebook(np.linspace(1, len(db2index), num=100)):\n",
    "    indexes_of_popular_drugs = np.argsort(pop_)[::-1][:int(i)]\n",
    "    adj_popular = np.zeros_like(adj_test)\n",
    "    # All rows of these drugs are 1s\n",
    "    adj_popular[indexes_of_popular_drugs,:] = 1\n",
    "    # assert for sanity\n",
    "    assert int(i)*len(adj_popular) == adj_popular.sum()\n",
    "    # Symmetrize\n",
    "    adj_popular = adj_popular + adj_popular.T - np.diag(adj_popular.diagonal())\n",
    "    logs.append(list(show_metrics_pos(adj_test.ravel(), adj_popular.ravel(), print_=False)) + [i, i/float(len(db2index)), pop_sum[int(i)-1]])"
   ]
  },
  {
   "cell_type": "code",
   "execution_count": 13,
   "metadata": {},
   "outputs": [
    {
     "data": {
      "text/plain": [
       "Text(0, 0.5, 'Score')"
      ]
     },
     "execution_count": 13,
     "metadata": {},
     "output_type": "execute_result"
    },
    {
     "data": {
      "image/png": "[encoded data removed]",
      "text/plain": [
       "<Figure size 1440x720 with 1 Axes>"
      ]
     },
     "metadata": {
      "needs_background": "dark"
     },
     "output_type": "display_data"
    }
   ],
   "source": [
    "import seaborn as sns\n",
    "df = pd.DataFrame(logs, columns=['Precision', 'Recall', 'F1', 'number', 'Perc', '% of Popularity'])\n",
    "plt.figure(figsize=(20, 10))\n",
    "max_f1_ind = int(df[df.F1 == df.F1.max()]['number'].values[0])\n",
    "sns.lineplot(x='number', y='value', hue='variable', data=df.melt(id_vars='number'))\n",
    "plt.axvline(max_f1_ind, label='Max-F1 %0.2f at %d drugs (%0.2f %%)' % (df.F1.max(), max_f1_ind, 100*max_f1_ind/float(len(db2index))), linestyle=':')\n",
    "plt.xlabel('# of drugs')\n",
    "plt.legend()\n",
    "plt.ylabel('Score')"
   ]
  },
  {
   "cell_type": "markdown",
   "metadata": {},
   "source": [
    "# Get distances model"
   ]
  },
  {
   "cell_type": "markdown",
   "metadata": {},
   "source": [
    "A) Simple distance with threshold on train"
   ]
  },
  {
   "cell_type": "code",
   "execution_count": 14,
   "metadata": {},
   "outputs": [
    {
     "name": "stdout",
     "output_type": "stream",
     "text": [
      "True positive:  145744.0\n",
      "False positive:  833697.0\n",
      "False negative:  158853\n",
      "True negative:  1040282\n",
      "Total #:  2178576.0\n",
      "True positive rate (recall):  0.47848140329681516\n",
      "Precision:  0.14880325\n",
      "F1:  0.22700885799329926\n"
     ]
    },
    {
     "data": {
      "image/png": "[encoded data removed]",
      "text/plain": [
       "<Figure size 576x576 with 1 Axes>"
      ]
     },
     "metadata": {
      "needs_background": "dark"
     },
     "output_type": "display_data"
    }
   ],
   "source": [
    "# logs = []\n",
    "# for tr in tqdm_notebook(np.linspace(np.min(distances), np.max(distances), num=100)):\n",
    "#     cur_adj = []\n",
    "#     show_metrics_pos(adj_test.ravel(), adj_popular.ravel())\n",
    "from sklearn.preprocessing import MinMaxScaler\n",
    "from sklearn.metrics import precision_recall_curve\n",
    "\n",
    "# Transform to probas\n",
    "similarities = 1-MinMaxScaler().fit_transform(distances.copy())\n",
    "# Calculate tresholds with precision and recalls\n",
    "p, r, thresholds = precision_recall_curve(adj_train.ravel(), similarities.ravel())\n",
    "# Calculate f1s\n",
    "f1s = 2*p*r/(p+r+0.0001)\n",
    "# Find optimal treshold\n",
    "tr = thresholds[np.argmax(f1s[:-1])]\n",
    "\n",
    "plt.figure(figsize=(8, 8))\n",
    "plt.plot(thresholds, f1s[:-1], \"r-\", label=\"F1\")\n",
    "plt.ylabel(\"Score\")\n",
    "plt.xlabel(\"Decision Threshold\")\n",
    "plt.legend(loc='best')\n",
    "plt.title(\"With threshold %0.2f that gives %0.2f F1 at train edges.\" % (tr, np.max(f1s)))\n",
    "\n",
    "# Binarize\n",
    "similarities[similarities>=tr] = 1\n",
    "similarities[similarities<tr] = 0\n",
    "\n",
    "_, _, _ = show_metrics_pos(adj_test.ravel(), similarities.ravel())"
   ]
  },
  {
   "cell_type": "markdown",
   "metadata": {},
   "source": [
    "## B) Use Training"
   ]
  },
  {
   "cell_type": "code",
   "execution_count": 15,
   "metadata": {},
   "outputs": [],
   "source": [
    "from sklearn.tree import DecisionTreeClassifier\n",
    "dt = DecisionTreeClassifier(max_depth=10, random_state=42)"
   ]
  },
  {
   "cell_type": "code",
   "execution_count": 16,
   "metadata": {},
   "outputs": [
    {
     "data": {
      "text/plain": [
       "array([-2.30434683e-02, -3.38774762e-02, -8.66417302e-02,  1.63884603e-02,\n",
       "        1.12021333e-01,  1.00299151e-01, -2.60314286e-02,  2.19766508e-01,\n",
       "       -2.93755651e-01, -3.01010794e-02, -1.16423825e-01,  2.31515675e-01,\n",
       "        6.21601587e-03,  2.51096659e-01, -2.62563516e-01, -1.83254389e-01,\n",
       "        2.53614603e-02, -1.20041198e-01, -4.70815238e-02, -1.24552619e-02,\n",
       "       -7.71919365e-02, -2.60448175e-02, -1.80019563e-01,  1.48835238e-01,\n",
       "       -1.66571675e-01,  6.89252381e-03,  6.42880714e-02,  6.89365889e-01,\n",
       "        4.65072778e-02,  1.68211167e-01, -7.91741270e-02,  3.63723016e-03,\n",
       "        5.61202937e-02,  5.60052222e-02,  2.51701786e-01,  1.41636770e-01,\n",
       "        1.45531754e-01,  2.92019833e-01, -3.59828175e-02,  1.82775706e-01,\n",
       "        1.97989881e-01, -1.47261683e-01, -6.97216746e-02,  5.50189683e-03,\n",
       "        1.91694683e-02, -2.87944310e-01, -1.82326929e-01, -3.66230952e-02,\n",
       "       -2.37770262e-01, -2.85726032e-02, -2.63726825e-02,  1.50617571e-01,\n",
       "        1.50944183e-01, -3.36634516e-01,  2.39886349e-01, -4.92253460e-01,\n",
       "        9.35583095e-02,  9.83038254e-02,  2.18026190e-03,  2.02495833e-01,\n",
       "        4.46653730e-02,  1.10309127e-01, -3.42119444e-02,  1.29160310e-01,\n",
       "       -5.63058810e-02,  6.83004286e-02,  2.45887460e-01,  1.60748397e-01,\n",
       "        1.40375254e-01, -1.48603603e-01, -1.87593286e-01,  2.66821754e-01,\n",
       "       -8.58775556e-02, -3.19641595e-01,  4.57923968e-02, -5.02759833e-01,\n",
       "        4.27392381e-02, -1.83246706e-01, -1.92076984e-02,  1.34239119e-01,\n",
       "        1.59466929e-01, -3.45105635e-02, -9.55336032e-02,  5.76034698e-01,\n",
       "       -1.06598492e-02,  6.19907302e-02, -2.13923484e-01,  4.17830381e-01,\n",
       "        9.37711746e-02,  1.14774373e-01,  5.55254206e-02, -1.03941762e-01,\n",
       "        1.10171976e-01,  2.12875397e-03, -6.11443651e-03,  6.21901429e-02,\n",
       "        5.55400794e-02, -2.78379349e-01, -4.50734500e-01, -6.33992778e-02,\n",
       "       -1.18606619e-01, -6.82761905e-04, -2.15339683e-02, -1.06964627e-01,\n",
       "        1.95940214e-01, -1.16421151e-01, -1.25614048e-01, -1.00655643e-01,\n",
       "        1.27194127e-01,  4.97963968e-02,  1.38446667e-02,  8.53469841e-03,\n",
       "        9.39402381e-02,  1.12513563e-01, -5.93595238e-03, -2.56961325e-01,\n",
       "        3.16578127e-01, -1.74600151e-01,  1.83811968e-01,  1.47947167e-01,\n",
       "        1.24359762e-02, -4.18617468e-01, -2.04368413e-02, -1.11247532e-01,\n",
       "        2.17402032e-01, -1.07826405e-01,  2.11336722e-01, -1.87556984e-02,\n",
       "        4.53277230e-01,  2.38463373e-01, -2.51677730e-01,  1.29562929e-01,\n",
       "        2.02004508e-01,  7.31790635e-02,  2.26328175e-02, -1.08326556e-01,\n",
       "       -7.83301333e-01,  1.21456143e-01, -6.80964706e-01, -1.58891500e-01,\n",
       "        1.63420556e-02,  4.64511190e-02,  1.38133746e-01, -1.72709937e-01,\n",
       "        9.57101429e-02, -1.21445683e-01, -6.81136587e-02, -5.15035556e-02,\n",
       "        2.91154508e-01, -1.07899484e-01, -3.36176262e-01, -2.47255135e-01,\n",
       "        1.37845627e-01,  2.05662857e-02,  1.19853841e-01, -5.08959063e-01,\n",
       "       -6.39704762e-03, -2.08826302e-01,  2.19232095e-01, -4.26620794e-02,\n",
       "        2.15892619e-02, -1.12303968e-01, -5.74830159e-02,  1.09798325e-01,\n",
       "        2.00551238e-01, -5.49859921e-02,  2.17572976e-01,  2.39701413e-01,\n",
       "        1.34515349e-01,  2.57219857e-01,  2.04126976e-01, -1.70593016e-02,\n",
       "        1.05053714e-01,  1.77250587e-01,  1.28725714e-01,  2.97095317e-02,\n",
       "        3.34426167e-01, -2.51606302e-01, -1.88001730e-01, -1.36945460e-01,\n",
       "        1.25381429e-01, -2.81908413e-01, -8.50769762e-02, -3.41299198e-01,\n",
       "       -5.22201746e-02,  1.66697421e-01, -8.80682857e-02, -1.52329960e-01,\n",
       "        3.50783587e-01,  1.88057230e-01,  2.13331024e-01, -2.28054183e-01,\n",
       "        7.80574365e-02, -5.13629286e-02, -4.87539540e-01, -1.57239016e-01,\n",
       "        1.09476984e-02, -3.40655556e-03,  2.38572429e-01,  4.91026508e-02,\n",
       "       -1.68346984e-02,  5.27883730e-02, -1.09008008e-01,  1.02321690e-01,\n",
       "       -6.19621111e-02, -1.64354865e-01, -6.71512302e-02,  4.06464762e-02,\n",
       "       -2.36283262e-01, -3.36701825e-02, -5.49824762e-02, -2.41643603e-01,\n",
       "        2.51623238e-01, -1.74954508e-01, -8.74922540e-02, -2.82082548e-01,\n",
       "        3.56028254e-02,  8.21222540e-02,  8.19483810e-02,  3.65349984e-01,\n",
       "       -2.57538810e-02, -1.61913802e-01,  1.95313270e-01, -2.10816730e-01,\n",
       "       -3.54941056e-01,  2.83802079e-01, -1.10722571e-01,  2.81005794e-02,\n",
       "        2.30576516e-01, -6.67960159e-02,  3.25157024e-01,  1.51154079e-01,\n",
       "        1.98359135e-01, -1.23975675e-01,  6.93947619e-02,  3.05810635e-02,\n",
       "        3.23063175e-02,  1.05372698e-02, -2.74634397e-01, -1.36540929e-01,\n",
       "       -5.86832381e-02, -1.51131817e-01,  1.05617571e-01,  1.17503873e-01,\n",
       "        6.67966667e-03,  3.38422143e-02, -1.07064119e-01,  1.90634254e-01,\n",
       "       -1.20542556e-01,  7.88803651e-02,  5.55553968e-02, -4.93493333e-02,\n",
       "        1.57124357e-01,  4.81092143e-02,  5.38853365e-01, -1.49582024e-01,\n",
       "        7.96509762e-02,  5.00673024e-01, -4.40305317e-02, -3.78905317e-02,\n",
       "        1.59955817e-01,  1.75636143e-01,  3.55154944e-01,  4.19126984e-03,\n",
       "       -6.86321190e-02, -1.63490325e-01, -1.79485175e-01, -3.37275437e-01,\n",
       "       -2.14677762e-01,  6.53808333e-02,  2.30418683e-01,  1.15724413e-01,\n",
       "        1.42851643e-01, -9.77651032e-02,  5.84161667e-02,  1.43001929e-01,\n",
       "       -1.26074921e-02, -2.33259944e-01,  9.65734762e-02, -2.79051937e-01,\n",
       "        2.12854349e-01,  3.98034968e-01, -1.33818571e-02, -3.26396111e-01,\n",
       "       -3.09536667e-02, -1.32775206e-01, -1.35354119e-01,  8.02659365e-02,\n",
       "       -9.76963175e-02, -2.95313103e-01, -1.89805905e-01,  2.68357397e-01,\n",
       "       -2.07640706e-01, -1.16536659e-01, -1.99353730e-02, -1.02579786e-01,\n",
       "       -2.38808833e-01,  3.19154206e-02, -1.45184389e-01, -3.95030794e-02,\n",
       "        2.26666405e-01,  4.61210794e-02,  2.08668405e-01, -2.82687460e-02,\n",
       "       -2.76453016e-02, -9.49920635e-03,  7.92567540e-02,  1.50701413e-01,\n",
       "        2.52540373e-01,  1.45601833e-01,  3.79276508e-01,  1.36612349e-01,\n",
       "       -2.87789317e-01,  7.99573651e-02, -1.54140214e-01, -5.30641984e-02,\n",
       "        2.04481381e-01, -6.90568016e-02, -2.57674500e-01,  1.15086738e-01,\n",
       "       -2.76265667e-01,  1.98275460e-01, -8.12499048e-02,  1.75161135e-01,\n",
       "       -4.95126508e-02,  1.73144095e-01,  1.98717714e-01,  1.62830556e-02,\n",
       "       -7.09838889e-02, -6.55705794e-02, -3.81386452e-01, -1.47371262e-01,\n",
       "        1.35260659e-01, -5.55714286e-02, -5.73159206e-02, -1.46733492e-01,\n",
       "        1.81318889e-02,  2.38813571e-02,  1.30700952e-02,  4.41556690e-01,\n",
       "        1.84373627e-01,  1.16574516e-01,  1.97652556e-01, -2.44779095e-01,\n",
       "        3.51212929e-01,  2.86247032e-01, -2.21646683e-01, -6.04935952e-02,\n",
       "       -2.56437548e-01, -1.59251056e-01, -2.13489429e-01, -9.43118810e-02,\n",
       "       -2.00699198e-01, -4.25920317e-02,  4.57954746e-01,  1.97821000e-01,\n",
       "       -1.95538976e-01, -1.29765167e-01,  2.79506667e-02, -2.25424524e-02,\n",
       "       -9.53079365e-03,  5.49386429e-02,  1.44242222e-02, -7.70912222e-02,\n",
       "       -1.22875389e-01, -4.76645738e-01, -4.55333333e-02,  3.30992508e-01,\n",
       "       -1.88861683e-01, -1.11739476e-01,  3.33128151e-01, -5.48483333e-01,\n",
       "        9.30928492e-02,  1.36328968e-02, -6.51978571e-02,  2.15190476e-04,\n",
       "       -7.01728095e-02, -1.54138246e-01, -1.75788968e-02, -1.76523278e-01,\n",
       "       -9.65301429e-02,  1.48235683e-01, -6.76509603e-02, -1.32003635e-01,\n",
       "       -2.26967302e-02,  6.09598413e-03, -2.12495508e-01,  1.20668317e-01,\n",
       "        1.94061754e-01,  8.04840635e-02,  8.69366825e-02,  6.79024921e-02,\n",
       "        1.42323730e-02, -9.26884206e-02, -1.00189944e-01,  3.05173175e-02,\n",
       "       -3.54147310e-01, -8.15850317e-02, -4.19356429e-02, -1.15514683e-02,\n",
       "       -2.28814921e-01,  2.33836667e-01, -2.23523230e-01, -2.69962857e-02,\n",
       "       -2.12781595e-01, -1.88373651e-02, -4.30497579e-01, -9.85026349e-02,\n",
       "       -3.71516667e-03, -2.15095841e-01,  6.04149603e-02,  5.93445238e-03,\n",
       "        3.37995032e-01,  3.91537143e-01,  1.84307635e-01, -3.62189254e-01,\n",
       "       -2.94077198e-01,  1.94598810e-01,  3.20919262e-01, -7.30899524e-02,\n",
       "       -6.43297222e-02,  9.82503492e-02, -2.57901984e-02,  4.11662381e-02,\n",
       "        1.63556437e-01,  5.84721032e-02, -2.34935214e-01, -1.96238794e-01,\n",
       "       -7.23884841e-02,  3.46609087e-01, -4.71504762e-02,  3.85303762e-01,\n",
       "       -5.09460794e-02,  1.19283040e-01, -1.31089365e-01, -1.49206349e-02,\n",
       "        1.60406976e-01, -2.40901373e-01, -4.59223651e-02, -2.30077056e-01,\n",
       "        1.85252206e-01, -8.03189206e-02,  2.19012802e-01, -4.71102698e-01,\n",
       "       -1.13160032e-01, -3.13568651e-02, -1.36248095e-02,  4.91789286e-02,\n",
       "        3.76045952e-02, -1.46984048e-02,  2.19610683e-01, -8.71607698e-02,\n",
       "       -5.30619841e-02, -2.77040317e-02, -3.27926905e-02, -6.73680508e-01,\n",
       "        9.63768333e-02, -1.81340817e-01, -9.24872222e-02,  8.60476190e-04,\n",
       "       -1.42988905e-01, -6.26559444e-02, -4.14667540e-02,  4.16817865e-01,\n",
       "        4.65497937e-02, -9.84705714e-02,  2.32569468e-01,  4.05525151e-01,\n",
       "       -1.54516857e-01,  5.72192063e-03,  2.61998984e-01,  3.12523810e-03,\n",
       "        3.83125087e-01,  2.92519127e-02,  1.50105302e-01, -3.17565397e-01,\n",
       "        6.28832063e-02,  1.73025698e-01,  2.14306389e-01,  1.76282397e-01,\n",
       "       -1.44958532e-01,  1.80776087e-01, -3.78016635e-01,  2.09395849e-01,\n",
       "       -6.09092063e-03,  5.90083333e-03,  2.75699429e-01, -4.40251270e-02,\n",
       "       -2.81470238e-02,  1.81265484e-01, -1.09128683e-01,  1.45050230e-01,\n",
       "        1.01704992e-01, -1.27953000e-01,  3.73099611e-01, -8.79923968e-02,\n",
       "        1.06393659e-01, -1.41646429e-02, -3.73872579e-01, -1.79994349e-01,\n",
       "        2.02305968e-01, -3.48096357e-01,  1.60042040e-01,  2.77944365e-02,\n",
       "       -1.53636016e-01,  2.55036325e-01, -2.89674532e-01,  3.15003032e-01,\n",
       "        1.60132937e-01, -3.14721794e-01, -2.64227611e-01, -2.14541310e-01,\n",
       "       -3.42860159e-02,  8.48765556e-02, -8.06219286e-02, -2.56418881e-01,\n",
       "       -1.33245048e-01,  4.51110286e-01, -5.73838254e-02,  1.18051437e-01,\n",
       "        2.28592516e-01, -1.12490048e-01,  5.35003651e-02, -5.78269206e-02,\n",
       "       -1.00838341e-01,  3.91256825e-02,  6.51258603e-01, -2.75404230e-01,\n",
       "       -1.49563071e-01, -8.37451032e-02,  3.10889683e-02,  8.84114524e-02,\n",
       "       -1.87675516e-01, -1.12203333e-02,  1.21130635e-02, -9.73565238e-02,\n",
       "       -6.10464603e-02,  7.31137540e-02, -1.77442452e-01,  1.76574357e-01,\n",
       "       -3.20646476e-01,  1.18885421e-01,  2.97523302e-01, -1.09512738e-01,\n",
       "        2.63797063e-02,  3.55327849e-01, -9.22507381e-02,  2.03491198e-01,\n",
       "        1.90913849e-01, -5.63059365e-02,  1.96505952e-01,  9.01979524e-02,\n",
       "       -2.91123040e-01, -7.00811905e-03,  3.05276722e-01,  2.69396056e-01,\n",
       "       -1.51440865e-01, -8.51139513e+00,  1.08639841e-02, -1.73904905e-01,\n",
       "       -4.73662937e-02, -6.54370873e-02, -4.41860000e-02, -3.54781667e-02,\n",
       "       -1.81134127e-03,  1.45387206e-01,  1.56102516e-01,  3.15758889e-02,\n",
       "       -1.83276032e-01,  3.42668810e-01, -4.35689603e-02,  1.76182698e-02,\n",
       "       -1.68496913e-01, -9.21182619e-02,  7.20880397e-02,  8.35863810e-02,\n",
       "        1.95540317e-02, -2.77223524e-01,  4.02747222e-02, -1.28677460e-02,\n",
       "        1.71861151e-01,  1.43493310e-01,  4.90639444e-02,  1.25142468e-01,\n",
       "        2.86215952e-02, -7.38687619e-02, -3.29297952e-01, -2.40643976e-01,\n",
       "        2.16514556e-01, -2.61270063e-01, -2.06928651e-02, -2.69368984e-01,\n",
       "       -2.46423532e-01,  3.35121190e-02, -6.48322063e-02,  2.69261603e-01,\n",
       "       -1.49707627e-01,  9.96093968e-02, -1.39611214e-01,  2.46382944e-01,\n",
       "       -2.12905222e-01,  1.90317873e-01,  2.56245952e-02,  5.43351111e-02,\n",
       "       -3.12340254e-01, -1.29782222e-01,  3.31966294e-01,  1.72125040e-01,\n",
       "        1.84710754e-01,  6.40483730e-02, -5.76396429e-02, -3.04079659e-01,\n",
       "        2.53924683e-02, -6.60786667e-02,  1.60498262e-01,  2.78753556e-01,\n",
       "       -2.78586349e-02, -2.29717937e-01, -1.34700032e-01,  2.56141635e-01,\n",
       "       -1.62947190e-01, -1.40451341e-01, -7.30474683e-02, -1.18591071e-01,\n",
       "       -6.95058095e-02, -1.53164278e-01,  2.54789722e-01, -1.76098413e-01,\n",
       "       -1.25341175e-01,  1.59475008e-01, -3.74191468e-01,  1.41187579e-01,\n",
       "       -2.87589183e-01,  1.08412675e-01,  5.97650556e-02, -2.20247595e-01,\n",
       "       -6.04346508e-02,  1.44859254e-01, -1.40831429e-01,  1.16703357e-01,\n",
       "        2.91797698e-02, -2.77987540e-01,  1.29701516e-01, -1.82964167e-01,\n",
       "        3.35897254e-01, -1.57811984e-01, -1.88474794e-01,  5.19619444e-02,\n",
       "        4.12720635e-03,  8.03078968e-02,  5.57149206e-02,  1.49956984e-02,\n",
       "        1.91239683e-02, -3.18017929e-01, -1.33685532e-01, -3.92723095e-02,\n",
       "        2.25787016e-01, -2.38024524e-02,  1.61602730e-01, -3.01590079e-02,\n",
       "        9.84124048e-02, -1.53707246e-01, -1.36469857e-01,  1.08544127e-02,\n",
       "       -2.07203135e-01, -5.57644524e-02,  4.88099079e-01, -1.07590651e-01,\n",
       "        3.13372810e-01,  1.17224960e-01, -3.41479786e-01,  1.81480333e-01,\n",
       "        1.16846611e-01,  2.95038048e-01, -5.44525000e-02,  2.31607492e-01,\n",
       "       -1.17467873e-01, -1.62488365e-01, -3.07895944e-01,  5.27566111e-02,\n",
       "        1.25603849e-01,  6.46961508e-02,  2.02651087e-01, -9.79667540e-02,\n",
       "       -2.29378706e-01,  1.78604937e-01, -7.25498095e-02,  1.94475365e-01,\n",
       "        7.26796270e-02, -3.77500190e-01,  3.73297310e-01, -3.89539762e-02,\n",
       "        8.94609921e-02, -1.46531429e-01,  2.07010556e-01, -4.52980556e-02,\n",
       "       -2.94605397e-02, -6.58494857e-01,  2.59448048e-01,  1.17718651e-01,\n",
       "        6.06642302e-02,  2.72377698e-01,  5.92421429e-02,  5.17815000e-02,\n",
       "       -1.83603452e-01, -2.47481429e-02,  4.42094762e-02, -5.42952040e-01,\n",
       "        2.92093651e-03,  2.94325968e-01, -2.12700873e-01,  4.71176825e-02,\n",
       "        2.33231468e-01,  5.44561651e-01,  4.15613571e-02,  8.53278571e-03,\n",
       "       -2.46057698e-02, -6.76133651e-02,  3.30262754e-01,  1.63150429e-01,\n",
       "        2.47467619e-02, -5.76651667e-02, -4.13938810e-02,  1.96323746e-01,\n",
       "       -1.90726667e-02,  1.85198444e-01, -2.68063492e-04,  4.01885159e-02,\n",
       "       -6.13355556e-03,  8.59161190e-02, -8.35419841e-03, -3.92885603e-01,\n",
       "       -3.61018889e-02,  6.47810437e-01, -4.87481349e-02,  2.58317357e-01,\n",
       "        2.32856175e-01,  3.14203492e-02, -7.82172778e-02, -2.78001111e-02,\n",
       "       -1.93459762e-02,  5.66349127e-02,  2.43573516e-01,  2.35372563e-01,\n",
       "       -2.06115619e-01, -9.89411905e-02,  2.12669841e-03, -1.72564127e-01,\n",
       "       -4.49074794e-01, -1.91974063e-01,  3.47250778e-01,  1.24613817e-01,\n",
       "        3.40170008e-01, -2.12216984e-01, -1.12544206e-02,  5.29125317e-02,\n",
       "       -5.25112619e-02, -5.48456587e-02, -3.85723095e-02,  2.15025706e-01,\n",
       "       -1.14866913e-01, -8.75801825e-02,  5.77200476e-02, -2.10593183e-01,\n",
       "        1.06145651e-01,  1.59878960e-01,  2.56387063e-02,  1.53972381e-01])"
      ]
     },
     "execution_count": 16,
     "metadata": {},
     "output_type": "execute_result"
    }
   ],
   "source": [
    "mapping[list(mapping.keys())[0]]"
   ]
  },
  {
   "cell_type": "code",
   "execution_count": 7,
   "metadata": {},
   "outputs": [],
   "source": [
    "# Efficient sampling procedure"
   ]
  },
  {
   "cell_type": "code",
   "execution_count": 17,
   "metadata": {},
   "outputs": [],
   "source": [
    "import numpy as np\n",
    "def negsamp_vectorized_bsearch_preverif(pos_inds, n_items, n_samp=32):\n",
    "    \"\"\" Pre-verified with binary search\n",
    "    `pos_inds` is assumed to be ordered\n",
    "    \"\"\"\n",
    "    raw_samp = np.random.randint(0, n_items - len(pos_inds), size=n_samp)\n",
    "    pos_inds_adj = pos_inds - np.arange(len(pos_inds))\n",
    "    neg_inds = raw_samp + np.searchsorted(pos_inds_adj, raw_samp, side='right')\n",
    "    return neg_inds"
   ]
  },
  {
   "cell_type": "code",
   "execution_count": 21,
   "metadata": {},
   "outputs": [],
   "source": [
    "def show_metrics_pos(y_true, y_score, wanted_indexes=None, print_=True, neg_label=0, pos_label=1):\n",
    "    if wanted_indexes:\n",
    "        y_true = y_true[wanted_indexes]\n",
    "        y_score = y_score[wanted_indexes]\n",
    "    if neg_label != 0:\n",
    "        y_true[y_true==neg_label] = 0\n",
    "        y_score[y_score==neg_label] = 0\n",
    "    if pos_label != 1:\n",
    "        y_true[y_true==pos_label] = 1\n",
    "        y_score[y_score==pos_label] = 1\n",
    "    # True positive\n",
    "    tp = np.sum(y_true * y_score)\n",
    "    # False positive\n",
    "    fp = np.sum((y_true == 0) * y_score)\n",
    "    # False negative\n",
    "    fn = np.sum(y_true * (y_score==0))\n",
    "    # tn\n",
    "    tn = np.sum((y_true == 0) * (y_score==0))\n",
    "    # True positive rate (sensitivity or recall)\n",
    "    tpr = tp / (tp + fn)\n",
    "    # Precision\n",
    "    precision = tp / (tp + fp)\n",
    "    # F1 score\n",
    "    f1 = 2*tp / (2*tp + fp + fn)\n",
    "#     print(\"True positive: \", tp)\n",
    "#     print(\"False positive: \", fp)\n",
    "#     print(\"False negative: \", fn)\n",
    "    if print_:\n",
    "        print(\"True positive: \", tp)\n",
    "        print(\"False positive: \", fp)\n",
    "        print(\"False negative: \", fn)\n",
    "        print(\"True negative: \", tn)\n",
    "        print(\"Total #: \", tp + fp +fn +tn)\n",
    "        print(\"True positive rate (recall): \", tpr)\n",
    "        print(\"Precision: \", precision)\n",
    "        print(\"F1: \", f1)\n",
    "    return precision, tpr, f1"
   ]
  },
  {
   "cell_type": "code",
   "execution_count": 22,
   "metadata": {},
   "outputs": [],
   "source": [
    "def minibatch_test(x_test_pairs, adj_all, mapping, model, minibatch_size=1000, print_progress=True, add_negatives=True, ns_samples=1):\n",
    "    N_batches = int(len(x_test_pairs)/minibatch_size)\n",
    "    #print(N_batches)\n",
    "    prec, rec, f1 = [], [], []\n",
    "    if not(print_progress):\n",
    "        for i_batch in range(0, N_batches):\n",
    "            #print(i_batch)\n",
    "            #print(i_batch*N_batches, i_batch*N_batches + minibatch_size)\n",
    "            cur_batch = x_test_pairs[i_batch*N_batches:i_batch*N_batches + minibatch_size]\n",
    "            #print(cur_batch)\n",
    "            X_cur = []\n",
    "            y_cur = []\n",
    "            for str_item in cur_batch:\n",
    "                item = str_item.split('_')\n",
    "                item = [float(i) for i in item]\n",
    "                X_cur.append(np.concatenate([mapping[item[0]], mapping[item[1]]]).reshape(1,-1))\n",
    "                y_cur.append(1)\n",
    "                if add_negatives:\n",
    "                        # Current index of head triple\n",
    "                    head_ind = int(item[0])\n",
    "                    # Positive linkgs of this triple\n",
    "                    pos_ind = np.argwhere(adj_all[head_ind]>0).flatten()\n",
    "                    # Negative sampled links\n",
    "                    neg_ind = negsamp_vectorized_bsearch_preverif(pos_ind, len(adj_all), ns_samples)\n",
    "                    #print(neg_ind)\n",
    "                    for neg_item in neg_ind: \n",
    "                        try:\n",
    "                            X_cur.append(np.concatenate([mapping[item[0]], mapping[float(neg_item)]]).reshape(1,-1))\n",
    "                            y_cur.append(-1)\n",
    "                        except KeyError:\n",
    "                            continue\n",
    "                        except IndexError:\n",
    "                            continue\n",
    "            X_cur = np.array(X_cur).reshape(len(X_cur), -1)\n",
    "            y_pred = model.predict(X_cur)\n",
    "            p, r, f = show_metrics_pos(np.array(y_cur).ravel(), y_pred.ravel(), print_=False, neg_label=-1, pos_label=1)\n",
    "            #print(p,r,f)\n",
    "            from collections import Counter\n",
    "            #print(Counter(y_cur))\n",
    "            #print(Counter(y_pred))\n",
    "            prec.append(p)\n",
    "            rec.append(r)\n",
    "            f1.append(f)\n",
    "    else:\n",
    "        for i_batch in tqdm_notebook(range(0, N_batches)):\n",
    "            #print(i_batch)\n",
    "            #print(i_batch*N_batches, i_batch*N_batches + minibatch_size)\n",
    "            cur_batch = x_test_pairs[i_batch*N_batches:i_batch*N_batches + minibatch_size]\n",
    "            #print(cur_batch)\n",
    "            X_cur = []\n",
    "            y_cur = []\n",
    "            for str_item in cur_batch:\n",
    "                item = str_item.split('_')\n",
    "                item = [float(i) for i in item]\n",
    "                X_cur.append(np.concatenate([mapping[item[0]], mapping[item[1]]]).reshape(1,-1))\n",
    "                y_cur.append(1)\n",
    "                if add_negatives:\n",
    "                        # Current index of head triple\n",
    "                    head_ind = int(item[0])\n",
    "                    # Positive linkgs of this triple\n",
    "                    pos_ind = np.argwhere(adj_all[head_ind]>0).flatten()\n",
    "                    # Negative sampled links\n",
    "                    neg_ind = negsamp_vectorized_bsearch_preverif(pos_ind, len(adj_all), ns_samples)\n",
    "                    #print(neg_ind)\n",
    "                    for neg_item in neg_ind: \n",
    "                        try:\n",
    "                            X_cur.append(np.concatenate([mapping[item[0]], mapping[float(neg_item)]]).reshape(1,-1))\n",
    "                            y_cur.append(-1)\n",
    "                        except KeyError:\n",
    "                            continue\n",
    "                        except IndexError:\n",
    "                            continue\n",
    "            X_cur = np.array(X_cur).reshape(len(X_cur), -1)\n",
    "            y_pred = model.predict(X_cur)\n",
    "            print(y_pred)\n",
    "            print(y_cur)\n",
    "            print(X_cur)\n",
    "            p, r, f = show_metrics_pos(np.array(y_cur).ravel(), y_pred.ravel(), print_=False, neg_label=-1, pos_label=1)\n",
    "            print(p,r,f)\n",
    "            from collections import Counter\n",
    "            #print(Counter(y_cur))\n",
    "            #print(Counter(y_pred))\n",
    "            prec.append(p)\n",
    "            rec.append(r)\n",
    "            f1.append(f)\n",
    "        #print(prec, rec, f1)\n",
    "    return np.mean(prec), np.mean(rec), np.mean(f1)"
   ]
  },
  {
   "cell_type": "code",
   "execution_count": 111,
   "metadata": {},
   "outputs": [],
   "source": [
    "from copy import deepcopy\n",
    "\n",
    "def check_early_stopping(hist_max, hist_est, current_value, cur_est, tol_count, patience=4, tolerance=0.001):\n",
    "    if current_value - hist_max > tolerance:\n",
    "        print(\"%0.2f %% --> %0.2f %% Keeping new model\" % (100*hist_max, 100*current_value))\n",
    "        return current_value, deepcopy(cur_est), 0, False\n",
    "    else:\n",
    "        tol_count += 1\n",
    "        if tol_count < patience:\n",
    "            print('No change! Early stopping: %d/%d' % (tol_count, patience))\n",
    "            return hist_max, hist_est, tol_count, False\n",
    "        else:\n",
    "            print(\"Early stopping reached!\")\n",
    "            return hist_max, hist_est, tol_count, True"
   ]
  },
  {
   "cell_type": "code",
   "execution_count": 119,
   "metadata": {},
   "outputs": [
    {
     "data": {
      "text/plain": [
       "array(['205_198', '1370_110', '795_623', '1195_1357', '1411_800',\n",
       "       '264_1095', '113_1286', '1298_1081', '1288_793', '376_529',\n",
       "       '1464_187'], dtype='<U9')"
      ]
     },
     "execution_count": 119,
     "metadata": {},
     "output_type": "execute_result"
    }
   ],
   "source": []
  },
  {
   "cell_type": "code",
   "execution_count": 120,
   "metadata": {},
   "outputs": [
    {
     "name": "stdout",
     "output_type": "stream",
     "text": [
      "$$$$$$$$$    Report     $$$$$$$$$\n",
      "We are at: 5000 2.93%\n",
      "0.00 % --> 56.66 % Keeping new model\n",
      "TRAIN BATCH F1: 56.66% \n",
      "TEST F1: 0.40% \n",
      "$$$$$$$$$$$$$$$$$$$$$$$$$$$$$$$$$$$$$$$$$$$$$$$$$$$$$$$$$$$$$$$$$$$$\n",
      "\n",
      "$$$$$$$$$    Report     $$$$$$$$$\n",
      "We are at: 10000 5.87%\n",
      "56.66 % --> 58.33 % Keeping new model\n",
      "TRAIN BATCH F1: 58.33% \n",
      "TEST F1: 66.64% \n",
      "$$$$$$$$$$$$$$$$$$$$$$$$$$$$$$$$$$$$$$$$$$$$$$$$$$$$$$$$$$$$$$$$$$$$\n",
      "\n",
      "$$$$$$$$$    Report     $$$$$$$$$\n",
      "We are at: 15000 8.80%\n",
      "58.33 % --> 63.86 % Keeping new model\n",
      "TRAIN BATCH F1: 63.86% \n",
      "TEST F1: 66.70% \n",
      "$$$$$$$$$$$$$$$$$$$$$$$$$$$$$$$$$$$$$$$$$$$$$$$$$$$$$$$$$$$$$$$$$$$$\n",
      "\n",
      "$$$$$$$$$    Report     $$$$$$$$$\n",
      "We are at: 20000 11.74%\n",
      "No change! Early stopping: 1/5\n",
      "TRAIN BATCH F1: 56.60% \n",
      "TEST F1: 66.95% \n",
      "$$$$$$$$$$$$$$$$$$$$$$$$$$$$$$$$$$$$$$$$$$$$$$$$$$$$$$$$$$$$$$$$$$$$\n",
      "\n",
      "$$$$$$$$$    Report     $$$$$$$$$\n",
      "We are at: 25000 14.67%\n",
      "No change! Early stopping: 2/5\n",
      "TRAIN BATCH F1: 62.79% \n",
      "TEST F1: 66.67% \n",
      "$$$$$$$$$$$$$$$$$$$$$$$$$$$$$$$$$$$$$$$$$$$$$$$$$$$$$$$$$$$$$$$$$$$$\n",
      "\n",
      "$$$$$$$$$    Report     $$$$$$$$$\n",
      "We are at: 30000 17.61%\n",
      "No change! Early stopping: 3/5\n",
      "TRAIN BATCH F1: 63.46% \n",
      "TEST F1: 66.67% \n",
      "$$$$$$$$$$$$$$$$$$$$$$$$$$$$$$$$$$$$$$$$$$$$$$$$$$$$$$$$$$$$$$$$$$$$\n",
      "\n",
      "$$$$$$$$$    Report     $$$$$$$$$\n",
      "We are at: 35000 20.54%\n",
      "63.86 % --> 66.67 % Keeping new model\n",
      "TRAIN BATCH F1: 66.67% \n",
      "TEST F1: 66.67% \n",
      "$$$$$$$$$$$$$$$$$$$$$$$$$$$$$$$$$$$$$$$$$$$$$$$$$$$$$$$$$$$$$$$$$$$$\n",
      "\n",
      "$$$$$$$$$    Report     $$$$$$$$$\n",
      "We are at: 40000 23.48%\n",
      "No change! Early stopping: 1/5\n",
      "TRAIN BATCH F1: 59.79% \n",
      "TEST F1: 66.67% \n",
      "$$$$$$$$$$$$$$$$$$$$$$$$$$$$$$$$$$$$$$$$$$$$$$$$$$$$$$$$$$$$$$$$$$$$\n",
      "\n",
      "$$$$$$$$$    Report     $$$$$$$$$\n",
      "We are at: 45000 26.41%\n",
      "No change! Early stopping: 2/5\n",
      "TRAIN BATCH F1: 61.69% \n",
      "TEST F1: 66.69% \n",
      "$$$$$$$$$$$$$$$$$$$$$$$$$$$$$$$$$$$$$$$$$$$$$$$$$$$$$$$$$$$$$$$$$$$$\n",
      "\n",
      "$$$$$$$$$    Report     $$$$$$$$$\n",
      "We are at: 50000 29.35%\n",
      "No change! Early stopping: 3/5\n",
      "TRAIN BATCH F1: 61.33% \n",
      "TEST F1: 66.71% \n",
      "$$$$$$$$$$$$$$$$$$$$$$$$$$$$$$$$$$$$$$$$$$$$$$$$$$$$$$$$$$$$$$$$$$$$\n",
      "\n",
      "$$$$$$$$$    Report     $$$$$$$$$\n",
      "We are at: 55000 32.28%\n",
      "No change! Early stopping: 4/5\n",
      "TRAIN BATCH F1: 64.05% \n",
      "TEST F1: 66.67% \n",
      "$$$$$$$$$$$$$$$$$$$$$$$$$$$$$$$$$$$$$$$$$$$$$$$$$$$$$$$$$$$$$$$$$$$$\n",
      "\n",
      "$$$$$$$$$    Report     $$$$$$$$$\n",
      "We are at: 60000 35.22%\n",
      "Early stopping reached!\n",
      "TRAIN BATCH F1: 56.01% \n",
      "TEST F1: 66.67% \n",
      "$$$$$$$$$$$$$$$$$$$$$$$$$$$$$$$$$$$$$$$$$$$$$$$$$$$$$$$$$$$$$$$$$$$$\n",
      "\n"
     ]
    }
   ],
   "source": [
    "import random\n",
    "from sklearn.linear_model import SGDClassifier\n",
    "from sklearn.metrics import accuracy_score, log_loss, classification_report, f1_score, confusion_matrix\n",
    "\n",
    "random_seed = 42\n",
    "random.seed(random_seed)\n",
    "np.random.seed(random_seed)\n",
    "x_test_pairs_array = np.array(x_test_pairs)\n",
    "\n",
    "\n",
    "# est = SGDClassifier(loss='hinge',  n_jobs=1,\n",
    "#                     warm_start=True,\n",
    "#                     learning_rate='constant',\n",
    "#                     eta0 = 0.00001,\n",
    "#                     penalty='l2',\n",
    "#                     random_state=random_seed,\n",
    "#                     tol=0e-3)\n",
    "\n",
    "est = SGDClassifier(loss='log',  n_jobs=1,\n",
    "                    warm_start=True,\n",
    "                    learning_rate='constant',\n",
    "                    eta0 = 0.0001,\n",
    "                    penalty='l2',\n",
    "                    random_state=random_seed,\n",
    "                    tol=0e-3)\n",
    "\n",
    "X_train = []\n",
    "ns_samples = 2#int(10*get_sparsity(adj_train))\n",
    "cor_strategy = \"both\" # could be head or tail\n",
    "print_every = 5000\n",
    "train_every = 1000\n",
    "logs = []\n",
    "c = 0\n",
    "X_cur_train = []\n",
    "y_cur_train = []\n",
    "# USE WEIGHTS?\n",
    "use_weights = True\n",
    "if use_weights:\n",
    "    pos_weight = get_sparsity(adj_train)*100\n",
    "# EARSLY STOPPING THINGS\n",
    "best_score = 0\n",
    "best_model = None\n",
    "tol_count = 0\n",
    "patience = 5\n",
    "tolerance = 0.01\n",
    "\n",
    "\n",
    "for str_item in x_train_pairs:\n",
    "    item = str_item.split('_')\n",
    "    item = [float(i) for i in item]\n",
    "    c += 1\n",
    "    if c % print_every == 0 and c >= print_every:\n",
    "        print(\"$$$$$$$$$    Report     $$$$$$$$$\")\n",
    "        print(\"We are at: %d %0.2f%%\"%(c, 100*c/float(len(x_train_pairs))))\n",
    "        prec, rec, f1 = minibatch_test(x_test_pairs_array[np.random.randint(0, high=len(x_test_pairs), size=10000)], adj_all, mapping, est, minibatch_size=1000, print_progress=False)\n",
    "        f1_train = f1_score(y_train_true, y_train_pred)\n",
    "        best_score, best_model, tol_count, early_stop = check_early_stopping(best_score, best_model, f1_train, est, tol_count, patience, tolerance)\n",
    "        print(\"TRAIN BATCH F1: %0.2f%% \"%(100*f1_train))\n",
    "        print(\"TEST F1: %0.2f%% \"%(100*f1))\n",
    "        logs.append({'Step':c, 'Prec':prec, 'Rec':rec,'F1':f1, 'F1-Train':f1_train})\n",
    "        print(\"$$$$$$$$$$$$$$$$$\"*4 + '\\n')\n",
    "        if early_stop:\n",
    "            est = deepcopy(best_model)\n",
    "            break\n",
    "            \n",
    "    try:\n",
    "        X_cur_train.append(np.concatenate([mapping[item[0]], mapping[item[1]]]).reshape(1,-1))\n",
    "        y_cur_train.append(1)\n",
    "        #est.partial_fit(X_cur, [1],classes=[-1, 1])\n",
    "    except KeyError:\n",
    "        continue\n",
    "    # Current index of head triple\n",
    "    head_ind = int(item[0])\n",
    "    # Positive linkgs of this triple\n",
    "    pos_ind = np.argwhere(adj_all[head_ind]>0).flatten()\n",
    "    # Negative sampled links\n",
    "    neg_ind = negsamp_vectorized_bsearch_preverif(pos_ind, len(adj_train), ns_samples)\n",
    "    #print(neg_ind)\n",
    "    for neg_item in neg_ind: \n",
    "        try:\n",
    "            X_cur_train.append(np.concatenate([mapping[item[0]], mapping[float(neg_item)]]).reshape(1,-1))\n",
    "            y_cur_train.append(-1)\n",
    "        except KeyError:\n",
    "            continue\n",
    "        except IndexError:\n",
    "            continue\n",
    "    if len(X_cur_train) >= train_every:\n",
    "        X_cur_train = np.array(X_cur_train).reshape( len(X_cur_train), -1)\n",
    "        y_cur_train = np.array(y_cur_train).ravel()\n",
    "        from sklearn.utils import shuffle\n",
    "        from sklearn.preprocessing import StandardScaler\n",
    "        X_cur_train, y_cur_train = shuffle(X_cur_train, y_cur_train)\n",
    "        X_cur_train = StandardScaler().fit_transform(X_cur_train)\n",
    "        if use_weights:\n",
    "            weights = (pos_weight) * np.ones_like(y_cur_train)\n",
    "            weights[weights < 0] = 100 - pos_weight\n",
    "            est.partial_fit(X_cur_train, y_cur_train, [-1, 1], sample_weight=weights)\n",
    "            y_train_pred = est.predict(X_cur_train).ravel()\n",
    "            y_train_true = y_cur_train.ravel()\n",
    "#             print(\"TRAIN\")\n",
    "#             print(y_cur_train)\n",
    "#             print(\"PREDICT\")\n",
    "#             print(y_train_pred)\n",
    "            #break\n",
    "        else:\n",
    "            est.partial_fit(X_cur_train, y_cur_train, [-1, 1])\n",
    "            y_train_pred = est.predict(X_cur_train).ravel()\n",
    "            y_train_true = y_cur_train.ravel()\n",
    "        #from collections import Counter\n",
    "        #Counter(y_cur_train)\n",
    "        X_cur_train = []\n",
    "        y_cur_train = []\n",
    "        weights = []\n",
    "       \n",
    "\n",
    "est = deepcopy(best_model)"
   ]
  },
  {
   "cell_type": "code",
   "execution_count": 121,
   "metadata": {},
   "outputs": [
    {
     "data": {
      "text/plain": [
       "<matplotlib.axes._subplots.AxesSubplot at 0x7f90a47335f8>"
      ]
     },
     "execution_count": 121,
     "metadata": {},
     "output_type": "execute_result"
    },
    {
     "data": {
      "image/png": "[encoded data removed]",
      "text/plain": [
       "<Figure size 432x288 with 1 Axes>"
      ]
     },
     "metadata": {
      "needs_background": "dark"
     },
     "output_type": "display_data"
    }
   ],
   "source": [
    "import seaborn as sns\n",
    "df = pd.DataFrame(logs)\n",
    "#df.F1.plot()\n",
    "#plt.show()\n",
    "sns.lineplot(x='Step', y='value', hue='variable', data=df.drop(['Prec', 'Rec'], axis=1).melt('Step'))"
   ]
  },
  {
   "cell_type": "code",
   "execution_count": null,
   "metadata": {},
   "outputs": [
    {
     "data": {
      "application/vnd.jupyter.widget-view+json": {
       "model_id": "b81c007a04964973b9a3124365a2c2e2",
       "version_major": 2,
       "version_minor": 0
      },
      "text/plain": [
       "HBox(children=(IntProgress(value=0, max=1476), HTML(value='')))"
      ]
     },
     "metadata": {},
     "output_type": "display_data"
    }
   ],
   "source": [
    "#Print Total Result\n",
    "X_est = []\n",
    "c = 0\n",
    "est_every = 10000\n",
    "y_pred = []\n",
    "for i in tqdm_notebook(range(len(adj_all))):\n",
    "    for j in range(len(adj_all)):\n",
    "        X_est.append(np.concatenate([mapping[float(i)], mapping[float(j)]]).reshape(1,-1))\n",
    "        c += 1\n",
    "        if c == est_every:\n",
    "            X_est = np.array(X_est).reshape(len(X_est), -1)\n",
    "            X_est = StandardScaler().fit_transform(X_est)\n",
    "            y_pred.extend(est.predict(X_est).ravel().tolist())\n",
    "            c = 0\n",
    "            X_est = []\n",
    "# For what's left\n",
    "if c > 0:\n",
    "    X_est = np.array(X_est).reshape(len(X_est), -1)\n",
    "    y_pred.extend(est.predict(X_est).ravel().tolist())\n",
    "    c = 0\n",
    "    X_est = []"
   ]
  },
  {
   "cell_type": "code",
   "execution_count": 44,
   "metadata": {},
   "outputs": [
    {
     "name": "stdout",
     "output_type": "stream",
     "text": [
      "True positive:  206755\n",
      "False positive:  959131\n",
      "False negative:  97842\n",
      "True negative:  914848\n",
      "Total #:  2178576\n",
      "True positive rate (recall):  0.6787821285173524\n",
      "Precision:  0.17733723537292667\n",
      "F1:  0.28120692316742185\n"
     ]
    },
    {
     "data": {
      "text/plain": [
       "(0.17733723537292667, 0.6787821285173524, 0.28120692316742185)"
      ]
     },
     "execution_count": 44,
     "metadata": {},
     "output_type": "execute_result"
    }
   ],
   "source": [
    "show_metrics_pos(adj_test.ravel(), np.array(y_pred).reshape(adj_all.shape).ravel(), pos_label=1, neg_label=-1)"
   ]
  },
  {
   "cell_type": "code",
   "execution_count": 94,
   "metadata": {},
   "outputs": [
    {
     "name": "stdout",
     "output_type": "stream",
     "text": [
      "True positive:  184992\n",
      "False positive:  753456\n",
      "False negative:  119605\n",
      "True negative:  1120523\n",
      "Total #:  2178576\n",
      "True positive rate (recall):  0.607333624428343\n",
      "Precision:  0.1971254667280446\n",
      "F1:  0.29764328725026046\n"
     ]
    },
    {
     "data": {
      "text/plain": [
       "(0.1971254667280446, 0.607333624428343, 0.29764328725026046)"
      ]
     },
     "execution_count": 94,
     "metadata": {},
     "output_type": "execute_result"
    }
   ],
   "source": [
    "# This is with positive weights\n",
    "show_metrics_pos(adj_test.ravel(), np.array(y_pred).reshape(adj_all.shape).ravel(), pos_label=1, neg_label=-1)"
   ]
  },
  {
   "cell_type": "code",
   "execution_count": null,
   "metadata": {},
   "outputs": [],
   "source": [
    "# This is with warm start jobs=1 pos_weights reversed (could use early stopping on the features)\n",
    "show_metrics_pos(adj_test.ravel(), np.array(y_pred).reshape(adj_all.shape).ravel(), pos_label=1, neg_label=-1)"
   ]
  },
  {
   "cell_type": "code",
   "execution_count": 18,
   "metadata": {},
   "outputs": [
    {
     "name": "stdout",
     "output_type": "stream",
     "text": [
      "True positive:  853391\n",
      "False positive:  10398594\n",
      "False negative:  150776\n",
      "True negative:  2132280\n",
      "Total #:  13535041\n",
      "True positive rate (recall):  0.8498496763984477\n",
      "Precision:  0.07584359559668805\n",
      "F1:  0.13925920631532637\n"
     ]
    },
    {
     "data": {
      "text/plain": [
       "(0.07584359559668805, 0.8498496763984477, 0.13925920631532637)"
      ]
     },
     "execution_count": 18,
     "metadata": {},
     "output_type": "execute_result"
    }
   ],
   "source": [
    "# with early stopping weighting with large the positive samples\n",
    "show_metrics_pos(adj_test.ravel(), np.array(y_pred).reshape(adj_all.shape).ravel(), pos_label=1, neg_label=-1)"
   ]
  },
  {
   "cell_type": "code",
   "execution_count": null,
   "metadata": {},
   "outputs": [],
   "source": []
  }
 ],
 "metadata": {
  "kernelspec": {
   "display_name": "Python 2",
   "language": "python",
   "name": "python2"
  },
  "language_info": {
   "codemirror_mode": {
    "name": "ipython",
    "version": 3
   },
   "file_extension": ".py",
   "mimetype": "text/x-python",
   "name": "python",
   "nbconvert_exporter": "python",
   "pygments_lexer": "ipython3",
   "version": "3.7.6"
  }
 },
 "nbformat": 4,
 "nbformat_minor": 2
}
