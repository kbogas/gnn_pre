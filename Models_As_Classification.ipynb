{
 "cells": [
  {
   "cell_type": "code",
   "execution_count": 1,
   "metadata": {},
   "outputs": [],
   "source": [
    "import pandas as pd\n",
    "import json\n",
    "import os\n",
    "from tqdm import tqdm_notebook\n",
    "\n",
    "import matplotlib.pyplot as plt\n",
    "%matplotlib inline\n",
    "plt.style.use('dark_background')\n",
    "\n",
    "root_file = './CLEAN_DB_VERSIONS/CLEAN_DB_FOR_GNN/'\n",
    "train = pd.read_csv(os.path.join(root_file, 'train.txt'), header=None, names=['h', 'r', 't'])\n",
    "test = pd.read_csv(os.path.join(root_file, 'test.txt'), header=None, names=['h', 'r', 't'])\n",
    "map_ = pd.read_csv(os.path.join(root_file, 'DB_Bert_Emb_INT__MAPPING.csv'))\n",
    "db2index = dict(zip(map_.DB_ID, map_.INDEX))\n",
    "index2db = dict(zip(map_.INDEX, map_.DB_ID))\n",
    "emb_ = pd.read_csv(os.path.join(root_file, 'DB_Bert_Emb_INT.csv'))\n",
    "mapping = {}\n",
    "for i, row in emb_.iterrows():\n",
    "    mapping[row['DB_ID']] = row[:-1].values\n",
    "db_ids = db2index.keys()\n",
    "assert len(set(index2db.keys()).difference(train['h'].unique().tolist()+train['t'].unique().tolist()+test['h'].unique().tolist()+test['t'].unique().tolist())) == 0"
   ]
  },
  {
   "cell_type": "code",
   "execution_count": 2,
   "metadata": {},
   "outputs": [
    {
     "name": "stdout",
     "output_type": "stream",
     "text": [
      "UNIQUE NODES: 3679\n"
     ]
    }
   ],
   "source": [
    "print(\"UNIQUE NODES: %d\" % (len(db2index)))"
   ]
  },
  {
   "cell_type": "code",
   "execution_count": 3,
   "metadata": {},
   "outputs": [],
   "source": [
    "import tqdm\n",
    "import random\n",
    "import faiss                   # make faiss available\n",
    "import numpy as np\n",
    "from faiss import pairwise_distances\n",
    "\n",
    "\n",
    "X_all = []\n",
    "for _, row in emb_.iterrows():\n",
    "    X_all.append(row.values[:-1].reshape(-1))\n",
    "X_all = np.ascontiguousarray(np.array(X_all), dtype=np.float32)\n",
    "dim_size = row[:-1].values.size\n",
    "index = faiss.IndexFlatL2(dim_size)   # build the index\n",
    "index.add(X_all)\n",
    "distances = pairwise_distances(X_all, X_all)"
   ]
  },
  {
   "cell_type": "code",
   "execution_count": 4,
   "metadata": {},
   "outputs": [
    {
     "name": "stdout",
     "output_type": "stream",
     "text": [
      "290722 290722\n",
      "1004167 1004167\n"
     ]
    }
   ],
   "source": [
    "pairs = train['h'].astype(str) + '_' + train['t'].astype(str)\n",
    "x_train_pairs = list(set(pairs))\n",
    "print(len(pairs), len(x_train_pairs))\n",
    "\n",
    "pairs = test['h'].astype(str) + '_' + test['t'].astype(str)\n",
    "x_test_pairs = list(set(pairs))\n",
    "print(len(pairs), len(x_test_pairs))"
   ]
  },
  {
   "cell_type": "code",
   "execution_count": 5,
   "metadata": {},
   "outputs": [
    {
     "name": "stdout",
     "output_type": "stream",
     "text": [
      "Sparsity Train: 97.85%\n",
      "Sparsity Test: 92.58%\n",
      "Sparsity Total: 90.43%\n"
     ]
    }
   ],
   "source": [
    "import numpy as np\n",
    "def get_sparsity(A):\n",
    "    return 1.0 - ( np.count_nonzero(A) / float(A.size) )\n",
    "\n",
    "# Adj matrix (train)\n",
    "\n",
    "adj_train = np.zeros((len(db_ids), len(db_ids)), dtype=np.int8)\n",
    "for item in x_train_pairs:\n",
    "    splits = item.split(\"_\")\n",
    "    try:\n",
    "        adj_train[int(splits[0]), int(splits[1])] = 1\n",
    "    except KeyError:\n",
    "        continue\n",
    "        \n",
    "        \n",
    "print(\"Sparsity Train: %0.2f%%\"%(100*get_sparsity(adj_train)))\n",
    "\n",
    "adj_test = np.zeros((len(db_ids), len(db_ids)), dtype=np.int8)\n",
    "for item in x_test_pairs:\n",
    "    splits = item.split(\"_\")\n",
    "    try:\n",
    "        adj_test[int(splits[0]), int(splits[1])] = 1\n",
    "    except KeyError:\n",
    "        continue\n",
    "\n",
    "print(\"Sparsity Test: %0.2f%%\"%(100*get_sparsity(adj_test)))\n",
    "\n",
    "adj_all = np.zeros_like(adj_train, dtype=np.int8)\n",
    "adj_all = adj_train + adj_test\n",
    "adj_all = np.clip(adj_all, 0, 1)\n",
    "print(\"Sparsity Total: %0.2f%%\"%(100*get_sparsity(adj_all)))"
   ]
  },
  {
   "cell_type": "code",
   "execution_count": 6,
   "metadata": {},
   "outputs": [
    {
     "name": "stdout",
     "output_type": "stream",
     "text": [
      "Sparsity of labels: 90.43 %\n"
     ]
    }
   ],
   "source": [
    "labels = distances*(adj_train + adj_test)\n",
    "labels[labels>0] = 1\n",
    "labels = labels.astype(np.int8, copy=False)\n",
    "print(\"Sparsity of labels: %0.2f %%\" % (100*get_sparsity(labels)))"
   ]
  },
  {
   "cell_type": "markdown",
   "metadata": {},
   "source": [
    "# Get classification results for the dummy cases. a) All test yes, b) Random"
   ]
  },
  {
   "cell_type": "code",
   "execution_count": 7,
   "metadata": {},
   "outputs": [],
   "source": [
    "def show_metrics_pos(y_true, y_score, wanted_indexes=None, print_=True, neg_label=0, pos_label=1):\n",
    "    if wanted_indexes:\n",
    "        y_true = y_true[wanted_indexes]\n",
    "        y_score = y_score[wanted_indexes]\n",
    "    if neg_label != 0:\n",
    "        y_true[y_true==neg_label] = 0\n",
    "        y_score[y_score==neg_label] = 0\n",
    "    if pos_label != 1:\n",
    "        y_true[y_true==pos_label] = 1\n",
    "        y_score[y_score==pos_label] = 1\n",
    "    # True positive\n",
    "    tp = np.sum(y_true * y_score)\n",
    "    # False positive\n",
    "    fp = np.sum((y_true == 0) * y_score)\n",
    "    # False negative\n",
    "    fn = np.sum(y_true * (y_score==0))\n",
    "    # tn\n",
    "    tn = np.sum((y_true == 0) * (y_score==0))\n",
    "    # True positive rate (sensitivity or recall)\n",
    "    tpr = tp / (tp + fn)\n",
    "    # Precision\n",
    "    precision = tp / (tp + fp)\n",
    "    # F1 score\n",
    "    f1 = 2*tp / (2*tp + fp + fn)\n",
    "#     print(\"True positive: \", tp)\n",
    "#     print(\"False positive: \", fp)\n",
    "#     print(\"False negative: \", fn)\n",
    "    if print_:\n",
    "        print(\"True positive: \", tp)\n",
    "        print(\"False positive: \", fp)\n",
    "        print(\"False negative: \", fn)\n",
    "        print(\"True negative: \", tn)\n",
    "        print(\"Total #: \", tp + fp +fn +tn)\n",
    "        print(\"True positive rate (recall): \", tpr)\n",
    "        print(\"Precision: \", precision)\n",
    "        print(\"F1: \", f1)\n",
    "    return precision, tpr, f1"
   ]
  },
  {
   "cell_type": "markdown",
   "metadata": {},
   "source": [
    "## a) All test yes"
   ]
  },
  {
   "cell_type": "code",
   "execution_count": 8,
   "metadata": {},
   "outputs": [
    {
     "name": "stdout",
     "output_type": "stream",
     "text": [
      "True positive rate (recall):  1.0\n",
      "Precision:  0.07419017053587056\n",
      "F1:  0.13813228340911005\n"
     ]
    }
   ],
   "source": [
    "adj_all_yes = np.ones_like(adj_test)\n",
    "_, _, _ = show_metrics_pos(adj_test.ravel(), adj_all_yes.ravel())"
   ]
  },
  {
   "cell_type": "markdown",
   "metadata": {},
   "source": [
    "## b) Random"
   ]
  },
  {
   "cell_type": "code",
   "execution_count": 9,
   "metadata": {},
   "outputs": [
    {
     "data": {
      "application/vnd.jupyter.widget-view+json": {
       "model_id": "28fd614eca244277b9e7768bcaf87e21",
       "version_major": 2,
       "version_minor": 0
      },
      "text/plain": [
       "HBox(children=(IntProgress(value=0, max=10), HTML(value='')))"
      ]
     },
     "metadata": {},
     "output_type": "display_data"
    },
    {
     "name": "stdout",
     "output_type": "stream",
     "text": [
      "\n",
      "True positive rate (recall):  0.5002484646478126\n",
      "Precision:  0.07422279761459145\n",
      "F1:  0.1292661357592212\n"
     ]
    }
   ],
   "source": [
    "# Get average over N-runs\n",
    "pre, rec, f1 = 0, 0, 0\n",
    "n_runs = 10\n",
    "for i in tqdm_notebook(range(n_runs)):\n",
    "    adj_random = np.random.random(adj_test.shape)\n",
    "    adj_random[adj_random>=0.5] = 1\n",
    "    adj_random[adj_random<0.5] = 0\n",
    "    p, r, f = show_metrics_pos(adj_test.ravel(), adj_random.ravel(), print_=False)\n",
    "    pre += p\n",
    "    rec += r\n",
    "    f1 += f\n",
    "print(\"True positive rate (recall): \", rec/float(n_runs))\n",
    "print(\"Precision: \", pre/float(n_runs))\n",
    "print(\"F1: \", f1/float(n_runs))"
   ]
  },
  {
   "cell_type": "markdown",
   "metadata": {},
   "source": [
    "# Get popular model"
   ]
  },
  {
   "cell_type": "code",
   "execution_count": 82,
   "metadata": {},
   "outputs": [
    {
     "data": {
      "text/plain": [
       "Text(1060, 0.6000000000000001, '90.00% at \\n1160 drugs')"
      ]
     },
     "execution_count": 82,
     "metadata": {},
     "output_type": "execute_result"
    },
    {
     "data": {
      "image/png": "[encoded data removed]",
      "text/plain": [
       "<Figure size 432x288 with 1 Axes>"
      ]
     },
     "metadata": {},
     "output_type": "display_data"
    }
   ],
   "source": [
    "pop_ = np.sum(adj_train, axis=0)/float(np.sum(adj_train))\n",
    "pop_sum = np.cumsum(np.sort(pop_)[::-1])\n",
    "\n",
    "plt.plot(pop_sum)\n",
    "tr = 0.9\n",
    "ind = np.argwhere(pop_sum >= tr)[0][0]\n",
    "plt.annotate('%0.2f%% at \\n%d drugs' % (100*tr, ind), xy=(ind, tr), xytext=(ind-100, tr-0.3), arrowprops=dict(facecolor='black', shrink=0.05),)"
   ]
  },
  {
   "cell_type": "code",
   "execution_count": 83,
   "metadata": {},
   "outputs": [
    {
     "name": "stdout",
     "output_type": "stream",
     "text": [
      "True positive rate (recall):  0.7473604724283993\n",
      "Precision:  0.10333168504778466\n",
      "F1:  0.18156042999913732\n"
     ]
    },
    {
     "data": {
      "text/plain": [
       "(0.10333168504778466, 0.7473604724283993, 0.18156042999913732)"
      ]
     },
     "execution_count": 83,
     "metadata": {},
     "output_type": "execute_result"
    }
   ],
   "source": [
    "# Keep indexes of wanted drugs\n",
    "indexes_of_popular_drugs = np.argsort(pop_)[::-1][:ind]\n",
    "adj_popular = np.zeros_like(adj_test)\n",
    "# All rows of these drugs are 1s\n",
    "adj_popular[indexes_of_popular_drugs,:] = 1\n",
    "# assert for sanity\n",
    "assert ind*len(adj_popular) == adj_popular.sum()\n",
    "# Symmetrize\n",
    "adj_popular = adj_popular + adj_popular.T - np.diag(adj_popular.diagonal())\n",
    "show_metrics_pos(adj_test.ravel(), adj_popular.ravel())"
   ]
  },
  {
   "cell_type": "markdown",
   "metadata": {},
   "source": [
    "## Plot F1-score as function of the number of the kept models"
   ]
  },
  {
   "cell_type": "code",
   "execution_count": 54,
   "metadata": {},
   "outputs": [
    {
     "data": {
      "application/vnd.jupyter.widget-view+json": {
       "model_id": "ccce6bd75f5d4bbb8fe50628d62576a1",
       "version_major": 2,
       "version_minor": 0
      },
      "text/plain": [
       "HBox(children=(IntProgress(value=0), HTML(value='')))"
      ]
     },
     "metadata": {},
     "output_type": "display_data"
    }
   ],
   "source": [
    "# Keep indexes of wanted drugs\n",
    "logs = []\n",
    "for i in tqdm_notebook(np.linspace(1, len(db2index), num=100)):\n",
    "    indexes_of_popular_drugs = np.argsort(pop_)[::-1][:int(i)]\n",
    "    adj_popular = np.zeros_like(adj_test)\n",
    "    # All rows of these drugs are 1s\n",
    "    adj_popular[indexes_of_popular_drugs,:] = 1\n",
    "    # assert for sanity\n",
    "    assert int(i)*len(adj_popular) == adj_popular.sum()\n",
    "    # Symmetrize\n",
    "    adj_popular = adj_popular + adj_popular.T - np.diag(adj_popular.diagonal())\n",
    "    logs.append(list(show_metrics_pos(adj_test.ravel(), adj_popular.ravel(), print_=False)) + [i, i/float(len(db2index)), pop_sum[int(i)-1]])"
   ]
  },
  {
   "cell_type": "code",
   "execution_count": 81,
   "metadata": {},
   "outputs": [
    {
     "data": {
      "text/plain": [
       "Text(0, 0.5, 'Score')"
      ]
     },
     "execution_count": 81,
     "metadata": {},
     "output_type": "execute_result"
    },
    {
     "data": {
      "image/png": "[encoded data removed]",
      "text/plain": [
       "<Figure size 1440x720 with 1 Axes>"
      ]
     },
     "metadata": {
      "needs_background": "dark"
     },
     "output_type": "display_data"
    }
   ],
   "source": [
    "import seaborn as sns\n",
    "df = pd.DataFrame(logs, columns=['Precision', 'Recall', 'F1', 'number', 'Perc', '% of Popularity'])\n",
    "plt.figure(figsize=(20, 10))\n",
    "max_f1_ind = int(df[df.F1 == df.F1.max()]['number'].values[0])\n",
    "sns.lineplot(x='number', y='value', hue='variable', data=df.melt(id_vars='number'))\n",
    "plt.axvline(max_f1_ind, label='Max-F1 %0.2f at %d drugs (%0.2f %%)' % (df.F1.max(), max_f1_ind, 100*max_f1_ind/float(len(db2index))), linestyle=':')\n",
    "plt.xlabel('# of drugs')\n",
    "plt.legend()\n",
    "plt.ylabel('Score')"
   ]
  },
  {
   "cell_type": "markdown",
   "metadata": {},
   "source": [
    "# Get distances model"
   ]
  },
  {
   "cell_type": "markdown",
   "metadata": {},
   "source": [
    "A) Simple distance with threshold on train"
   ]
  },
  {
   "cell_type": "code",
   "execution_count": 25,
   "metadata": {},
   "outputs": [
    {
     "name": "stdout",
     "output_type": "stream",
     "text": [
      "True positive rate (recall):  0.11935265747629627\n",
      "Precision:  0.11458855\n",
      "F1:  0.11692209534931025\n"
     ]
    },
    {
     "data": {
      "image/png": "[encoded data removed]",
      "text/plain": [
       "<Figure size 576x576 with 1 Axes>"
      ]
     },
     "metadata": {
      "needs_background": "dark"
     },
     "output_type": "display_data"
    }
   ],
   "source": [
    "# logs = []\n",
    "# for tr in tqdm_notebook(np.linspace(np.min(distances), np.max(distances), num=100)):\n",
    "#     cur_adj = []\n",
    "#     show_metrics_pos(adj_test.ravel(), adj_popular.ravel())\n",
    "from sklearn.preprocessing import MinMaxScaler\n",
    "from sklearn.metrics import precision_recall_curve\n",
    "\n",
    "# Transform to probas\n",
    "similarities = 1-MinMaxScaler().fit_transform(distances.copy())\n",
    "# Calculate tresholds with precision and recalls\n",
    "p, r, thresholds = precision_recall_curve(adj_train.ravel(), similarities.ravel())\n",
    "# Calculate f1s\n",
    "f1s = 2*p*r/(p+r+0.0001)\n",
    "# Find optimal treshold\n",
    "tr = thresholds[np.argmax(f1s[:-1])]\n",
    "\n",
    "plt.figure(figsize=(8, 8))\n",
    "plt.plot(thresholds, f1s[:-1], \"r-\", label=\"F1\")\n",
    "plt.ylabel(\"Score\")\n",
    "plt.xlabel(\"Decision Threshold\")\n",
    "plt.legend(loc='best')\n",
    "plt.title(\"With threshold %0.2f that gives %0.2f F1 at train edges.\" % (tr, np.max(f1s)))\n",
    "\n",
    "# Binarize\n",
    "similarities[similarities>=tr] = 1\n",
    "similarities[similarities<tr] = 0\n",
    "\n",
    "_, _, _ = show_metrics_pos(adj_test.ravel(), similarities.ravel())"
   ]
  },
  {
   "cell_type": "markdown",
   "metadata": {},
   "source": [
    "## B) Use Training"
   ]
  },
  {
   "cell_type": "code",
   "execution_count": 24,
   "metadata": {},
   "outputs": [],
   "source": [
    "from sklearn.tree import DecisionTreeClassifier\n",
    "dt = DecisionTreeClassifier(max_depth=10, random_state=42)"
   ]
  },
  {
   "cell_type": "code",
   "execution_count": 90,
   "metadata": {},
   "outputs": [
    {
     "data": {
      "text/plain": [
       "array([ 2.02024865e-01, -6.61715079e-03, -9.94127381e-02,  4.85000873e-02,\n",
       "        6.05207460e-02, -7.30205952e-02, -9.06812540e-02, -2.69626984e-04,\n",
       "        1.51755873e-02, -7.29187778e-02,  2.63782762e-01,  2.25907024e-01,\n",
       "       -2.83020873e-01,  2.57151810e-01, -1.78660103e-01, -2.78132944e-01,\n",
       "       -3.70900159e-02, -1.19716294e-01, -7.02006190e-02, -2.27242937e-02,\n",
       "       -3.47451270e-02, -2.86983095e-02, -1.64769825e-01,  1.43449619e-01,\n",
       "       -7.83596032e-03, -1.05877206e-01,  1.30941730e-01,  5.24169167e-01,\n",
       "       -1.81395056e-01,  3.74518056e-01,  9.19123968e-02, -9.36110952e-02,\n",
       "        7.19366032e-02, -4.05477143e-02,  2.66929063e-01, -4.25460000e-02,\n",
       "        3.87222143e-02,  1.40661683e-01, -1.59230563e-01, -1.41271952e-01,\n",
       "        2.48533548e-01, -1.00296190e-01,  9.23658413e-02, -3.84166270e-02,\n",
       "       -1.90164063e-01, -3.19672738e-01,  2.10879524e-02,  2.26722770e-01,\n",
       "       -2.50554079e-01, -6.19702540e-02,  2.33460714e-02,  2.43744063e-01,\n",
       "        1.02087714e-01, -1.46496056e-01,  1.57587944e-01, -5.35689619e-01,\n",
       "        5.04981587e-02, -2.37398810e-02, -8.99592540e-02,  2.38196532e-01,\n",
       "        1.07731817e-01,  1.53687524e-01,  5.12922302e-02, -3.43313492e-02,\n",
       "        6.13561429e-02,  2.51578151e-01,  1.26356921e-01,  1.22493794e-01,\n",
       "        8.17718095e-02, -1.42666405e-01, -1.08097730e-01, -1.43964365e-02,\n",
       "       -6.27779206e-02, -4.67647143e-02,  1.27751111e-02, -4.75520468e-01,\n",
       "        1.07271119e-01, -4.40178413e-02,  3.76636746e-02,  2.69190016e-01,\n",
       "        2.24888000e-01,  9.29506587e-02, -2.69541690e-01,  5.34508254e-01,\n",
       "       -3.97840000e-02,  4.27144603e-02, -7.13709603e-02,  1.97762302e-01,\n",
       "       -1.13584429e-01, -5.27040238e-02, -6.47988254e-02,  5.85103968e-03,\n",
       "        3.04304952e-01,  1.33244841e-01, -1.22031587e-02,  4.76606587e-02,\n",
       "        1.01312881e-01, -2.26698548e-01, -4.67437167e-01,  1.22727254e-01,\n",
       "       -1.14013833e-01, -1.26741976e-01, -6.42390476e-03,  5.30788810e-02,\n",
       "        9.31630397e-02, -9.98052460e-02, -7.25096905e-02, -6.71733968e-02,\n",
       "       -8.05820079e-02,  5.16937778e-02,  1.19027667e-01, -1.23383675e-01,\n",
       "        7.03531746e-04,  1.82659778e-01,  3.06134921e-04, -4.57526690e-01,\n",
       "        3.50476810e-01, -6.73858730e-02,  2.61564198e-01,  3.83975405e-01,\n",
       "        1.54889881e-01, -1.13018087e-01,  3.30653833e-01,  1.35886111e-01,\n",
       "        1.57315079e-01,  9.86523016e-03,  2.92708635e-01,  7.21089286e-02,\n",
       "        1.29214167e-01,  4.34438571e-02, -4.61719524e-02, -2.44616270e-02,\n",
       "        3.15725556e-02,  2.40776349e-02,  6.70244444e-03,  6.72541825e-02,\n",
       "       -8.09970135e-01,  1.17491794e-01, -6.20370778e-01, -4.49856667e-02,\n",
       "       -7.69813889e-02, -3.64570873e-02,  2.29361444e-01, -1.39283540e-01,\n",
       "        6.99064048e-02,  1.44342302e-02, -1.88745056e-01, -1.45935690e-01,\n",
       "        2.22665960e-01, -3.00452381e-04, -3.23481365e-01, -2.11683516e-01,\n",
       "        1.40400460e-01, -5.20038730e-02,  1.21293500e-01, -2.41170857e-01,\n",
       "        3.16566587e-02, -1.76123714e-01,  2.50993952e-01,  1.35094817e-01,\n",
       "        9.61733095e-02,  1.45459984e-01, -9.08686667e-02,  5.09130000e-02,\n",
       "       -2.64437778e-02,  1.13631405e-01,  1.90951151e-01,  2.47856929e-01,\n",
       "        1.49956865e-01,  3.33268000e-01,  1.29615198e-01, -2.65433810e-02,\n",
       "       -5.66053889e-02,  1.64104579e-01,  2.96129127e-01,  6.04588095e-03,\n",
       "        2.86914040e-01, -8.26743413e-02, -1.88332897e-01,  1.21612619e-01,\n",
       "       -1.14561024e-01, -3.47128286e-01, -6.01505873e-02, -3.92961325e-01,\n",
       "       -3.94677460e-02,  2.76758087e-01, -1.18533413e-01, -5.12036508e-02,\n",
       "        2.25235476e-01,  1.55553738e-01,  1.44796937e-01, -1.54105929e-01,\n",
       "        1.25472548e-01, -8.68381984e-02, -4.40330333e-01, -1.98611143e-01,\n",
       "       -6.37059683e-02, -1.91846524e-01,  2.37538206e-01,  1.58810175e-01,\n",
       "       -3.20681262e-01, -1.06874143e-01, -2.29355905e-01,  1.65613008e-01,\n",
       "        1.10968175e-01, -2.59791040e-01,  1.62580000e-02,  1.86051310e-01,\n",
       "       -5.18960159e-02, -7.38810794e-02, -1.37943833e-01,  1.36343571e-02,\n",
       "        2.74592825e-01, -4.24038635e-01, -9.57158016e-02,  9.06404762e-04,\n",
       "        1.07681683e-01, -9.27920952e-02,  2.68685770e-01,  1.90745595e-01,\n",
       "       -2.37457619e-02, -2.27638214e-01,  1.43363230e-01, -2.58677421e-01,\n",
       "       -3.48344881e-01,  9.85921746e-02,  3.07417540e-02,  9.47918016e-02,\n",
       "        3.04827071e-01, -1.49486111e-02,  8.83709127e-02,  3.73358897e-01,\n",
       "        6.66530397e-02,  5.81393333e-02, -2.34282460e-02,  1.43159048e-02,\n",
       "        7.00430159e-03,  6.67346190e-02, -4.05575381e-01,  1.01058849e-01,\n",
       "        4.45333413e-02,  3.03178095e-02,  2.63840071e-01, -8.08771508e-02,\n",
       "       -4.68342302e-02,  3.17344008e-01, -9.41835873e-02, -6.68820635e-02,\n",
       "       -1.40554238e-01,  2.53158643e-01,  1.36722524e-01, -1.45028944e-01,\n",
       "        1.03833000e-01,  7.59319683e-02,  7.58113294e-01,  5.10513254e-02,\n",
       "       -8.28120952e-02,  3.93231079e-01, -1.36723500e-01, -5.36629683e-02,\n",
       "        8.15489603e-02,  1.13759579e-01,  2.41866286e-01, -5.39367778e-02,\n",
       "       -1.04979810e-01, -8.43236190e-02, -5.58527778e-03, -1.40567857e-01,\n",
       "       -1.36470881e-01,  3.18491587e-02,  1.41376389e-01, -1.48152413e-01,\n",
       "        3.79960040e-01, -1.78623810e-01,  3.97852937e-02,  2.70233889e-02,\n",
       "       -1.00163476e-01, -1.54460548e-01,  1.35171508e-01, -2.86662746e-01,\n",
       "        4.72910079e-01,  2.20091635e-01,  4.06803889e-02, -3.07682032e-01,\n",
       "        4.84197698e-02, -1.35559603e-02, -9.43011905e-03,  1.18049270e-01,\n",
       "        3.13472222e-03, -4.45882651e-01, -1.49707746e-01,  2.45863460e-01,\n",
       "       -1.86581794e-01, -1.35506905e-02, -2.19402127e-01, -3.39808810e-02,\n",
       "       -2.03713325e-01,  1.39054714e-01, -2.56367452e-01,  9.50963810e-02,\n",
       "        2.81593381e-01,  3.05813175e-02,  1.22721889e-01,  1.75240714e-01,\n",
       "       -1.95473190e-01, -1.05954389e-01,  3.93781190e-02, -1.00721706e-01,\n",
       "        1.05821183e-01, -4.77259841e-02,  2.89550937e-01,  3.40686984e-02,\n",
       "       -1.91606913e-01, -1.07193794e-01, -1.56312365e-01, -2.03660952e-02,\n",
       "        1.39418413e-01, -1.74687063e-02, -4.09252873e-01,  5.76230952e-03,\n",
       "       -1.55709111e-01,  6.74905079e-02,  2.93609206e-02, -5.42366984e-02,\n",
       "        1.75454921e-02,  2.10571960e-01,  1.25544071e-01, -1.31450032e-01,\n",
       "        2.02452921e-01, -9.20789286e-02, -3.15655841e-01, -2.13267548e-01,\n",
       "        2.96659190e-01,  1.15591841e-01,  2.89334524e-02,  4.20726349e-02,\n",
       "        5.44761905e-05,  1.71489444e-02, -3.40292087e-01,  3.47040357e-01,\n",
       "        2.25713103e-01,  1.24031460e-01,  1.40107968e-01, -3.25653730e-02,\n",
       "        2.63906746e-01,  2.83838016e-02, -1.62192325e-01, -1.11053159e-01,\n",
       "       -7.39289683e-02,  4.94603810e-02, -4.11043960e-01, -5.21602381e-02,\n",
       "       -2.91445048e-01, -2.91178651e-02,  3.74243206e-01,  4.51308095e-02,\n",
       "        1.47878571e-01, -1.47628690e-01,  1.30905913e-01, -7.66398651e-02,\n",
       "        5.37929365e-02, -3.95682381e-02, -1.77382032e-01,  6.33960714e-02,\n",
       "       -1.07767635e-01, -2.78285516e-01,  1.84553976e-01,  3.61575405e-01,\n",
       "       -2.84798968e-01, -2.08264778e-01,  2.30099587e-01, -4.62984357e-01,\n",
       "        2.01137508e-01,  2.41269365e-02, -1.85205111e-01,  1.83710040e-01,\n",
       "       -6.04194841e-02, -3.58079048e-02, -1.85783175e-02, -2.36529897e-01,\n",
       "        6.34179365e-02,  2.10719127e-01, -9.22859683e-02, -8.16033492e-02,\n",
       "       -1.14813611e-01,  4.72599524e-02, -9.89631111e-02, -2.57011111e-03,\n",
       "       -4.53833968e-02, -3.83203651e-02,  1.93440587e-01,  6.88872698e-02,\n",
       "        2.29474540e-01, -1.59776929e-01,  4.39451587e-02, -7.39431746e-03,\n",
       "       -2.84684159e-01, -2.48627302e-01,  6.38411667e-02,  1.61526167e-01,\n",
       "       -2.10694929e-01,  9.79075317e-02, -1.38535198e-01, -3.01492698e-02,\n",
       "       -2.34654921e-01,  5.23529921e-02, -2.67597389e-01, -5.41155714e-02,\n",
       "        7.85592063e-03, -4.37347063e-02, -7.83727540e-02, -1.14786603e-01,\n",
       "        3.32646413e-01,  2.74848095e-01,  2.11303294e-01, -3.00707992e-01,\n",
       "       -1.64011754e-01,  2.03627468e-01,  2.24213040e-01, -1.94915762e-01,\n",
       "       -7.22610794e-02,  2.12389825e-01,  1.10578143e-01,  1.28190968e-01,\n",
       "        1.70372000e-01,  3.92918333e-02, -2.55192254e-01, -1.41533952e-01,\n",
       "        1.64157540e-02,  3.89415357e-01, -8.40452698e-02,  9.05412381e-02,\n",
       "       -2.71944603e-02, -9.99457857e-02, -1.36019698e-01,  7.45696349e-02,\n",
       "        1.20324143e-01, -8.96293254e-02,  7.69961270e-02, -1.08154365e-01,\n",
       "        4.46086111e-02, -1.55779421e-01, -5.89896587e-02, -3.79953706e-01,\n",
       "       -6.83214048e-02, -4.74843968e-02, -3.04830873e-02,  4.88678968e-02,\n",
       "       -9.70251984e-02,  1.08327008e-01, -3.51490079e-02, -1.09354905e-01,\n",
       "        7.69644365e-02, -4.46946905e-02, -4.79038333e-02, -7.03934524e-01,\n",
       "        2.10171429e-03,  1.41068310e-01, -2.86958016e-02, -9.72338651e-02,\n",
       "       -3.07081016e-01, -1.72424897e-01, -2.29028921e-01,  4.67323452e-01,\n",
       "        1.01501960e-01, -1.78714310e-01,  2.50990754e-01,  2.27646794e-01,\n",
       "       -1.79375635e-01, -4.61375397e-03,  6.13599444e-02,  3.56763810e-02,\n",
       "        1.43504373e-01, -1.53588095e-03, -9.38071905e-02, -2.95597302e-01,\n",
       "        4.75516032e-02,  1.91119865e-01,  2.46181103e-01,  1.19014254e-01,\n",
       "       -9.33722698e-02, -5.08661905e-02, -1.20654325e-01,  1.72220857e-01,\n",
       "       -8.69038095e-03,  4.14053333e-02,  6.44024127e-02,  2.22810389e-01,\n",
       "        2.24939325e-01,  2.80495341e-01, -3.16859683e-02,  3.26125540e-01,\n",
       "       -8.32982540e-03,  2.42344603e-01,  1.46246833e-01,  1.73522619e-02,\n",
       "       -7.19102222e-02, -3.45885317e-02, -2.23493278e-01, -1.87050302e-01,\n",
       "        3.59532190e-01, -3.14596500e-01, -4.97741905e-02,  7.75276111e-02,\n",
       "       -2.53426238e-01,  4.80076817e-01, -5.60895000e-02,  2.99373968e-01,\n",
       "        2.31742389e-01, -1.70516325e-01, -1.19469278e-01, -3.25732611e-01,\n",
       "        7.41156587e-02,  3.97944524e-02, -1.42031159e-01, -2.29536730e-01,\n",
       "        4.12928730e-02,  2.03188167e-01, -1.98011190e-02, -3.80371429e-03,\n",
       "        5.53228730e-02, -2.88409762e-02,  9.54260079e-02, -2.06369127e-01,\n",
       "       -2.15000286e-01,  2.51208698e-01,  5.83569556e-01, -1.28244817e-01,\n",
       "       -1.97654381e-01, -1.08136667e-01, -1.47620032e-01,  6.44337302e-03,\n",
       "       -5.60450317e-02, -2.67973016e-03,  1.25365563e-01,  4.17315714e-02,\n",
       "       -1.81702262e-01, -4.79780000e-02,  1.59164524e-01,  2.57051484e-01,\n",
       "       -2.59128254e-01,  1.66389968e-01,  6.88046429e-02, -8.46170635e-02,\n",
       "        8.70151349e-02,  2.66168151e-01, -1.38141349e-02, -4.38693254e-02,\n",
       "        2.01049381e-01,  8.91995238e-02,  1.31747254e-01,  4.98771190e-02,\n",
       "       -3.42057405e-01,  5.52170952e-02,  2.66529468e-01,  6.19122857e-02,\n",
       "       -3.16958865e-01, -8.99235037e+00, -6.46212619e-02, -1.99341810e-01,\n",
       "       -8.67810952e-02, -5.69121905e-02, -1.65442738e-01,  5.80207460e-02,\n",
       "       -3.45128651e-02,  7.81087302e-04,  7.01536984e-02,  5.91240952e-02,\n",
       "       -2.48369857e-01,  2.32252056e-01,  2.32673881e-01,  1.77120786e-01,\n",
       "       -9.01381190e-02, -1.91083341e-01, -2.78616746e-02,  1.49416484e-01,\n",
       "        7.35410159e-02, -3.15469976e-01,  2.95150651e-01,  2.19556349e-02,\n",
       "        1.25796603e-01,  2.30039206e-01,  2.69485286e-01,  7.23831270e-02,\n",
       "       -1.34459365e-01, -7.71745556e-02, -1.93569770e-01, -6.80350000e-03,\n",
       "        2.47882460e-01, -9.64996111e-02, -4.64595238e-02, -8.12375238e-02,\n",
       "       -7.13193333e-02,  5.52063016e-02,  4.94814286e-02,  7.83651032e-02,\n",
       "       -1.94568651e-02,  1.15885714e-03, -3.63772540e-01,  1.80685627e-01,\n",
       "       -8.11935397e-02,  2.24587690e-01, -1.67721365e-01, -2.46356349e-02,\n",
       "       -1.49979976e-01, -1.75210262e-01,  1.75927762e-01,  1.41456095e-01,\n",
       "        1.17525087e-01, -6.92347381e-02, -3.45134905e-01, -4.59034960e-01,\n",
       "       -1.61719762e-01, -1.46666429e-02,  2.58226714e-01,  1.02640159e-01,\n",
       "        1.51281341e-01, -4.80950794e-02, -1.42392063e-02,  7.60624127e-02,\n",
       "       -2.48019960e-01, -2.11458413e-02,  8.02101587e-03, -3.96237817e-01,\n",
       "       -8.37951984e-02, -1.44733532e-01,  2.91882825e-01, -3.38779508e-01,\n",
       "       -1.60849706e-01,  1.04785389e-01, -2.68297603e-01,  1.15999365e-01,\n",
       "       -1.85292627e-01,  2.08972230e-01,  1.55545865e-01, -8.68776270e-02,\n",
       "        1.00654627e-01, -1.98022222e-03,  1.93046111e-02, -2.76875476e-02,\n",
       "       -1.33034817e-01, -1.67729198e-01,  6.08127778e-02, -1.23116889e-01,\n",
       "        1.33102714e-01,  1.16304325e-01, -1.92408095e-01,  2.16098619e-01,\n",
       "        1.43058548e-01,  7.02700079e-02, -1.76916270e-02,  2.37103175e-02,\n",
       "       -5.20054365e-02, -2.34087540e-01, -2.70958095e-01, -2.27866730e-01,\n",
       "        1.70485810e-01, -3.21044286e-02,  9.38410397e-02,  2.51161143e-01,\n",
       "       -1.20604389e-01, -1.25473246e-01,  3.63383095e-02, -9.80609365e-02,\n",
       "       -1.33708198e-01, -1.52071643e-01,  2.41924000e-01, -9.79282540e-03,\n",
       "        1.24594429e-01,  1.93511659e-01, -1.53679881e-01,  1.10834667e-01,\n",
       "        1.65137008e-01,  4.88248944e-01,  2.75150794e-03,  1.86670952e-01,\n",
       "        1.20746135e-01, -1.67661429e-02, -2.16037206e-01, -1.14329365e-03,\n",
       "        1.14038214e-01,  7.60040556e-02,  2.20239587e-01,  4.83534921e-02,\n",
       "       -8.86660079e-02,  3.41966730e-01, -5.96843651e-02,  1.78551278e-01,\n",
       "        4.53204921e-02, -2.99814087e-01,  4.06123778e-01, -1.67739087e-01,\n",
       "       -2.34984683e-02, -1.67175889e-01, -2.79490476e-02, -1.78980532e-01,\n",
       "       -1.31711024e-01, -7.24060698e-01,  1.50188349e-01,  2.91274365e-01,\n",
       "        3.10398397e-01,  2.59860238e-02,  5.80566984e-02, -1.20944738e-01,\n",
       "        2.32838810e-02, -1.86277770e-01, -9.97538016e-02, -3.33028111e-01,\n",
       "       -9.92248889e-02,  2.17220659e-01, -1.61019016e-01,  1.20381452e-01,\n",
       "        8.30489921e-02,  2.50573127e-01, -6.89623016e-03, -1.70036540e-01,\n",
       "       -7.80896825e-03, -1.64560405e-01,  2.15740365e-01,  8.31982540e-03,\n",
       "        2.54749206e-02, -1.84539270e-01,  8.47786905e-02,  9.11143095e-02,\n",
       "       -8.52289444e-02,  2.25550008e-01, -3.02788413e-02, -9.42762460e-02,\n",
       "       -8.85502698e-02,  1.83916849e-01, -3.02737143e-02, -1.25607746e-01,\n",
       "        3.43057063e-02,  6.82475373e-01, -4.20521587e-02,  4.48252381e-03,\n",
       "        1.48397992e-01, -1.01316746e-02, -3.26884524e-02,  1.61870468e-01,\n",
       "       -7.17375079e-02,  5.42179603e-02,  1.93793230e-01,  2.37404246e-01,\n",
       "       -2.09742738e-01,  1.22422063e-02, -1.16689683e-01, -1.05250817e-01,\n",
       "       -1.22857754e-01, -2.66048087e-01,  5.14135119e-01,  6.51941349e-02,\n",
       "        1.64465294e-01, -2.42405413e-01,  3.04241508e-02, -2.11172619e-02,\n",
       "       -7.02500714e-02, -7.78077540e-02, -9.73932381e-02, -2.23222063e-02,\n",
       "       -1.39572587e-01, -8.72676905e-02,  7.97951111e-02,  2.36455397e-02,\n",
       "       -1.00569508e-01,  1.63791714e-01, -1.60869286e-02, -2.29076667e-02])"
      ]
     },
     "execution_count": 90,
     "metadata": {},
     "output_type": "execute_result"
    }
   ],
   "source": [
    "mapping[list(mapping.keys())[0]]"
   ]
  },
  {
   "cell_type": "code",
   "execution_count": 7,
   "metadata": {},
   "outputs": [],
   "source": [
    "# Efficient sampling procedure"
   ]
  },
  {
   "cell_type": "code",
   "execution_count": 8,
   "metadata": {},
   "outputs": [],
   "source": [
    "import numpy as np\n",
    "def negsamp_vectorized_bsearch_preverif(pos_inds, n_items, n_samp=32):\n",
    "    \"\"\" Pre-verified with binary search\n",
    "    `pos_inds` is assumed to be ordered\n",
    "    \"\"\"\n",
    "    raw_samp = np.random.randint(0, n_items - len(pos_inds), size=n_samp)\n",
    "    pos_inds_adj = pos_inds - np.arange(len(pos_inds))\n",
    "    neg_inds = raw_samp + np.searchsorted(pos_inds_adj, raw_samp, side='right')\n",
    "    return neg_inds"
   ]
  },
  {
   "cell_type": "code",
   "execution_count": 9,
   "metadata": {},
   "outputs": [],
   "source": [
    "def show_metrics_pos(y_true, y_score, wanted_indexes=None, print_=True, neg_label=0, pos_label=1):\n",
    "    if wanted_indexes:\n",
    "        y_true = y_true[wanted_indexes]\n",
    "        y_score = y_score[wanted_indexes]\n",
    "    if neg_label != 0:\n",
    "        y_true[y_true==neg_label] = 0\n",
    "        y_score[y_score==neg_label] = 0\n",
    "    if pos_label != 1:\n",
    "        y_true[y_true==pos_label] = 1\n",
    "        y_score[y_score==pos_label] = 1\n",
    "    # True positive\n",
    "    tp = np.sum(y_true * y_score)\n",
    "    # False positive\n",
    "    fp = np.sum((y_true == 0) * y_score)\n",
    "    # False negative\n",
    "    fn = np.sum(y_true * (y_score==0))\n",
    "    # tn\n",
    "    tn = np.sum((y_true == 0) * (y_score==0))\n",
    "    # True positive rate (sensitivity or recall)\n",
    "    tpr = tp / (tp + fn)\n",
    "    # Precision\n",
    "    precision = tp / (tp + fp)\n",
    "    # F1 score\n",
    "    f1 = 2*tp / (2*tp + fp + fn)\n",
    "#     print(\"True positive: \", tp)\n",
    "#     print(\"False positive: \", fp)\n",
    "#     print(\"False negative: \", fn)\n",
    "    if print_:\n",
    "        print(\"True positive: \", tp)\n",
    "        print(\"False positive: \", fp)\n",
    "        print(\"False negative: \", fn)\n",
    "        print(\"True negative: \", tn)\n",
    "        print(\"Total #: \", tp + fp +fn +tn)\n",
    "        print(\"True positive rate (recall): \", tpr)\n",
    "        print(\"Precision: \", precision)\n",
    "        print(\"F1: \", f1)\n",
    "    return precision, tpr, f1"
   ]
  },
  {
   "cell_type": "code",
   "execution_count": 11,
   "metadata": {},
   "outputs": [],
   "source": [
    "def minibatch_test(x_test_pairs, adj_all, mapping, model, minibatch_size=1000, print_progress=True, add_negatives=True, ns_samples=1):\n",
    "    N_batches = int(len(x_test_pairs)/minibatch_size)\n",
    "    #print(N_batches)\n",
    "    prec, rec, f1 = [], [], []\n",
    "    if not(print_progress):\n",
    "        for i_batch in range(0, N_batches):\n",
    "            #print(i_batch)\n",
    "            #print(i_batch*N_batches, i_batch*N_batches + minibatch_size)\n",
    "            cur_batch = x_test_pairs[i_batch*N_batches:i_batch*N_batches + minibatch_size]\n",
    "            #print(cur_batch)\n",
    "            X_cur = []\n",
    "            y_cur = []\n",
    "            for str_item in cur_batch:\n",
    "                item = str_item.split('_')\n",
    "                item = [float(i) for i in item]\n",
    "                X_cur.append(np.concatenate([mapping[item[0]], mapping[item[1]]]).reshape(1,-1))\n",
    "                y_cur.append(1)\n",
    "                if add_negatives:\n",
    "                        # Current index of head triple\n",
    "                    head_ind = int(item[0])\n",
    "                    # Positive linkgs of this triple\n",
    "                    pos_ind = np.argwhere(adj_all[head_ind]>0).flatten()\n",
    "                    # Negative sampled links\n",
    "                    neg_ind = negsamp_vectorized_bsearch_preverif(pos_ind, len(adj_all), ns_samples)\n",
    "                    #print(neg_ind)\n",
    "                    for neg_item in neg_ind: \n",
    "                        try:\n",
    "                            X_cur.append(np.concatenate([mapping[item[0]], mapping[float(neg_item)]]).reshape(1,-1))\n",
    "                            y_cur.append(-1)\n",
    "                        except KeyError:\n",
    "                            continue\n",
    "                        except IndexError:\n",
    "                            continue\n",
    "            X_cur = np.array(X_cur).reshape(len(X_cur), -1)\n",
    "            y_pred = model.predict(X_cur)\n",
    "            p, r, f = show_metrics_pos(np.array(y_cur).ravel(), y_pred.ravel(), print_=False, neg_label=-1, pos_label=1)\n",
    "            #print(p,r,f)\n",
    "            from collections import Counter\n",
    "            #print(Counter(y_cur))\n",
    "            #print(Counter(y_pred))\n",
    "            prec.append(p)\n",
    "            rec.append(r)\n",
    "            f1.append(f)\n",
    "    else:\n",
    "        for i_batch in tqdm_notebook(range(0, N_batches)):\n",
    "            #print(i_batch)\n",
    "            #print(i_batch*N_batches, i_batch*N_batches + minibatch_size)\n",
    "            cur_batch = x_test_pairs[i_batch*N_batches:i_batch*N_batches + minibatch_size]\n",
    "            #print(cur_batch)\n",
    "            X_cur = []\n",
    "            y_cur = []\n",
    "            for str_item in cur_batch:\n",
    "                item = str_item.split('_')\n",
    "                item = [float(i) for i in item]\n",
    "                X_cur.append(np.concatenate([mapping[item[0]], mapping[item[1]]]).reshape(1,-1))\n",
    "                y_cur.append(1)\n",
    "                if add_negatives:\n",
    "                        # Current index of head triple\n",
    "                    head_ind = int(item[0])\n",
    "                    # Positive linkgs of this triple\n",
    "                    pos_ind = np.argwhere(adj_all[head_ind]>0).flatten()\n",
    "                    # Negative sampled links\n",
    "                    neg_ind = negsamp_vectorized_bsearch_preverif(pos_ind, len(adj_all), ns_samples)\n",
    "                    #print(neg_ind)\n",
    "                    for neg_item in neg_ind: \n",
    "                        try:\n",
    "                            X_cur.append(np.concatenate([mapping[item[0]], mapping[float(neg_item)]]).reshape(1,-1))\n",
    "                            y_cur.append(-1)\n",
    "                        except KeyError:\n",
    "                            continue\n",
    "                        except IndexError:\n",
    "                            continue\n",
    "            X_cur = np.array(X_cur).reshape(len(X_cur), -1)\n",
    "            y_pred = model.predict(X_cur)\n",
    "            print(y_pred)\n",
    "            print(y_cur)\n",
    "            print(X_cur)\n",
    "            p, r, f = show_metrics_pos(np.array(y_cur).ravel(), y_pred.ravel(), print_=False, neg_label=-1, pos_label=1)\n",
    "            print(p,r,f)\n",
    "            from collections import Counter\n",
    "            #print(Counter(y_cur))\n",
    "            #print(Counter(y_pred))\n",
    "            prec.append(p)\n",
    "            rec.append(r)\n",
    "            f1.append(f)\n",
    "        #print(prec, rec, f1)\n",
    "    return np.mean(prec), np.mean(rec), np.mean(f1)"
   ]
  },
  {
   "cell_type": "code",
   "execution_count": 13,
   "metadata": {},
   "outputs": [],
   "source": [
    "def check_early_stopping(hist_max, hist_est, current_value, cur_est, tol_count, tolerance=4):\n",
    "    from copy import deepcopy\n",
    "    if current_value > hist_max:\n",
    "        print(\"%0.2f %% --> %0.2f %% Keeping new model\" % (100*hist_max, 100*current_value))\n",
    "        return current_value, deepcopy(cur_est), 0, False\n",
    "    elif current_value <= hist_max:\n",
    "        tol_count += 1\n",
    "        if tol_count < tolerance:\n",
    "            print('No change! Early stopping: %d/%d' % (tol_count, tolerance))\n",
    "            return hist_max, hist_est, tol_count, False\n",
    "        else:\n",
    "            print(\"Early stopping reached!\")\n",
    "            return hist_max, hist_est, tol_count, True"
   ]
  },
  {
   "cell_type": "code",
   "execution_count": 19,
   "metadata": {},
   "outputs": [
    {
     "name": "stdout",
     "output_type": "stream",
     "text": [
      "$$$$$$$$$    Report     $$$$$$$$$\n",
      "We are at: 10000 3.44%\n",
      "0.00 % --> 58.68 % Keeping new model\n",
      "TRAIN BATCH F1: 58.68% \n",
      "TEST F1: 41.32% \n",
      "$$$$$$$$$$$$$$$$$$$$$$$$$$$$$$$$$$$$$$$$$$$$$$$$$$$$$$$$$$$$$$$$$$$$\n",
      "\n",
      "$$$$$$$$$    Report     $$$$$$$$$\n",
      "We are at: 20000 6.88%\n",
      "No change! Early stopping: 1/3\n",
      "TRAIN BATCH F1: 58.60% \n",
      "TEST F1: 40.49% \n",
      "$$$$$$$$$$$$$$$$$$$$$$$$$$$$$$$$$$$$$$$$$$$$$$$$$$$$$$$$$$$$$$$$$$$$\n",
      "\n",
      "$$$$$$$$$    Report     $$$$$$$$$\n",
      "We are at: 30000 10.32%\n",
      "58.68 % --> 59.14 % Keeping new model\n",
      "TRAIN BATCH F1: 59.14% \n",
      "TEST F1: 41.98% \n",
      "$$$$$$$$$$$$$$$$$$$$$$$$$$$$$$$$$$$$$$$$$$$$$$$$$$$$$$$$$$$$$$$$$$$$\n",
      "\n",
      "$$$$$$$$$    Report     $$$$$$$$$\n",
      "We are at: 40000 13.76%\n",
      "59.14 % --> 61.17 % Keeping new model\n",
      "TRAIN BATCH F1: 61.17% \n",
      "TEST F1: 42.71% \n",
      "$$$$$$$$$$$$$$$$$$$$$$$$$$$$$$$$$$$$$$$$$$$$$$$$$$$$$$$$$$$$$$$$$$$$\n",
      "\n",
      "$$$$$$$$$    Report     $$$$$$$$$\n",
      "We are at: 50000 17.20%\n",
      "No change! Early stopping: 1/3\n",
      "TRAIN BATCH F1: 61.07% \n",
      "TEST F1: 43.69% \n",
      "$$$$$$$$$$$$$$$$$$$$$$$$$$$$$$$$$$$$$$$$$$$$$$$$$$$$$$$$$$$$$$$$$$$$\n",
      "\n",
      "$$$$$$$$$    Report     $$$$$$$$$\n",
      "We are at: 60000 20.64%\n",
      "61.17 % --> 61.55 % Keeping new model\n",
      "TRAIN BATCH F1: 61.55% \n",
      "TEST F1: 43.18% \n",
      "$$$$$$$$$$$$$$$$$$$$$$$$$$$$$$$$$$$$$$$$$$$$$$$$$$$$$$$$$$$$$$$$$$$$\n",
      "\n",
      "$$$$$$$$$    Report     $$$$$$$$$\n",
      "We are at: 70000 24.08%\n",
      "No change! Early stopping: 1/3\n",
      "TRAIN BATCH F1: 59.74% \n",
      "TEST F1: 42.73% \n",
      "$$$$$$$$$$$$$$$$$$$$$$$$$$$$$$$$$$$$$$$$$$$$$$$$$$$$$$$$$$$$$$$$$$$$\n",
      "\n",
      "$$$$$$$$$    Report     $$$$$$$$$\n",
      "We are at: 80000 27.52%\n",
      "61.55 % --> 61.97 % Keeping new model\n",
      "TRAIN BATCH F1: 61.97% \n",
      "TEST F1: 42.90% \n",
      "$$$$$$$$$$$$$$$$$$$$$$$$$$$$$$$$$$$$$$$$$$$$$$$$$$$$$$$$$$$$$$$$$$$$\n",
      "\n",
      "$$$$$$$$$    Report     $$$$$$$$$\n",
      "We are at: 90000 30.96%\n",
      "No change! Early stopping: 1/3\n",
      "TRAIN BATCH F1: 60.52% \n",
      "TEST F1: 43.28% \n",
      "$$$$$$$$$$$$$$$$$$$$$$$$$$$$$$$$$$$$$$$$$$$$$$$$$$$$$$$$$$$$$$$$$$$$\n",
      "\n",
      "$$$$$$$$$    Report     $$$$$$$$$\n",
      "We are at: 100000 34.40%\n"
     ]
    },
    {
     "ename": "KeyboardInterrupt",
     "evalue": "",
     "output_type": "error",
     "traceback": [
      "\u001b[0;31m---------------------------------------------------------------------------\u001b[0m",
      "\u001b[0;31mKeyboardInterrupt\u001b[0m                         Traceback (most recent call last)",
      "\u001b[0;32m<ipython-input-19-093a4f6799d2>\u001b[0m in \u001b[0;36m<module>\u001b[0;34m\u001b[0m\n\u001b[1;32m     38\u001b[0m         \u001b[0mprint\u001b[0m\u001b[0;34m(\u001b[0m\u001b[0;34m\"$$$$$$$$$    Report     $$$$$$$$$\"\u001b[0m\u001b[0;34m)\u001b[0m\u001b[0;34m\u001b[0m\u001b[0;34m\u001b[0m\u001b[0m\n\u001b[1;32m     39\u001b[0m         \u001b[0mprint\u001b[0m\u001b[0;34m(\u001b[0m\u001b[0;34m\"We are at: %d %0.2f%%\"\u001b[0m\u001b[0;34m%\u001b[0m\u001b[0;34m(\u001b[0m\u001b[0mc\u001b[0m\u001b[0;34m,\u001b[0m \u001b[0;36m100\u001b[0m\u001b[0;34m*\u001b[0m\u001b[0mc\u001b[0m\u001b[0;34m/\u001b[0m\u001b[0mfloat\u001b[0m\u001b[0;34m(\u001b[0m\u001b[0mlen\u001b[0m\u001b[0;34m(\u001b[0m\u001b[0mx_train_pairs\u001b[0m\u001b[0;34m)\u001b[0m\u001b[0;34m)\u001b[0m\u001b[0;34m)\u001b[0m\u001b[0;34m)\u001b[0m\u001b[0;34m\u001b[0m\u001b[0;34m\u001b[0m\u001b[0m\n\u001b[0;32m---> 40\u001b[0;31m         \u001b[0mprec\u001b[0m\u001b[0;34m,\u001b[0m \u001b[0mrec\u001b[0m\u001b[0;34m,\u001b[0m \u001b[0mf1\u001b[0m \u001b[0;34m=\u001b[0m \u001b[0mminibatch_test\u001b[0m\u001b[0;34m(\u001b[0m\u001b[0mx_test_pairs\u001b[0m\u001b[0;34m[\u001b[0m\u001b[0;34m:\u001b[0m\u001b[0;36m10000\u001b[0m\u001b[0;34m]\u001b[0m\u001b[0;34m,\u001b[0m \u001b[0madj_all\u001b[0m\u001b[0;34m,\u001b[0m \u001b[0mmapping\u001b[0m\u001b[0;34m,\u001b[0m \u001b[0mest\u001b[0m\u001b[0;34m,\u001b[0m \u001b[0mminibatch_size\u001b[0m\u001b[0;34m=\u001b[0m\u001b[0;36m1000\u001b[0m\u001b[0;34m,\u001b[0m \u001b[0mprint_progress\u001b[0m\u001b[0;34m=\u001b[0m\u001b[0;32mFalse\u001b[0m\u001b[0;34m)\u001b[0m\u001b[0;34m\u001b[0m\u001b[0;34m\u001b[0m\u001b[0m\n\u001b[0m\u001b[1;32m     41\u001b[0m         \u001b[0mf1_train\u001b[0m \u001b[0;34m=\u001b[0m \u001b[0mf1_score\u001b[0m\u001b[0;34m(\u001b[0m\u001b[0my_train_true\u001b[0m\u001b[0;34m,\u001b[0m \u001b[0my_train_pred\u001b[0m\u001b[0;34m)\u001b[0m\u001b[0;34m\u001b[0m\u001b[0;34m\u001b[0m\u001b[0m\n\u001b[1;32m     42\u001b[0m         \u001b[0mbest_score\u001b[0m\u001b[0;34m,\u001b[0m \u001b[0mbest_model\u001b[0m\u001b[0;34m,\u001b[0m \u001b[0mtol_count\u001b[0m\u001b[0;34m,\u001b[0m \u001b[0mearly_stop\u001b[0m \u001b[0;34m=\u001b[0m \u001b[0mcheck_early_stopping\u001b[0m\u001b[0;34m(\u001b[0m\u001b[0mbest_score\u001b[0m\u001b[0;34m,\u001b[0m \u001b[0mbest_model\u001b[0m\u001b[0;34m,\u001b[0m \u001b[0mf1_train\u001b[0m\u001b[0;34m,\u001b[0m \u001b[0mest\u001b[0m\u001b[0;34m,\u001b[0m \u001b[0mtol_count\u001b[0m\u001b[0;34m,\u001b[0m \u001b[0mtolerance\u001b[0m\u001b[0;34m)\u001b[0m\u001b[0;34m\u001b[0m\u001b[0;34m\u001b[0m\u001b[0m\n",
      "\u001b[0;32m<ipython-input-11-7a246842959d>\u001b[0m in \u001b[0;36mminibatch_test\u001b[0;34m(x_test_pairs, adj_all, mapping, model, minibatch_size, print_progress, add_negatives, ns_samples)\u001b[0m\n\u001b[1;32m     14\u001b[0m                 \u001b[0mitem\u001b[0m \u001b[0;34m=\u001b[0m \u001b[0mstr_item\u001b[0m\u001b[0;34m.\u001b[0m\u001b[0msplit\u001b[0m\u001b[0;34m(\u001b[0m\u001b[0;34m'_'\u001b[0m\u001b[0;34m)\u001b[0m\u001b[0;34m\u001b[0m\u001b[0;34m\u001b[0m\u001b[0m\n\u001b[1;32m     15\u001b[0m                 \u001b[0mitem\u001b[0m \u001b[0;34m=\u001b[0m \u001b[0;34m[\u001b[0m\u001b[0mfloat\u001b[0m\u001b[0;34m(\u001b[0m\u001b[0mi\u001b[0m\u001b[0;34m)\u001b[0m \u001b[0;32mfor\u001b[0m \u001b[0mi\u001b[0m \u001b[0;32min\u001b[0m \u001b[0mitem\u001b[0m\u001b[0;34m]\u001b[0m\u001b[0;34m\u001b[0m\u001b[0;34m\u001b[0m\u001b[0m\n\u001b[0;32m---> 16\u001b[0;31m                 \u001b[0mX_cur\u001b[0m\u001b[0;34m.\u001b[0m\u001b[0mappend\u001b[0m\u001b[0;34m(\u001b[0m\u001b[0mnp\u001b[0m\u001b[0;34m.\u001b[0m\u001b[0mconcatenate\u001b[0m\u001b[0;34m(\u001b[0m\u001b[0;34m[\u001b[0m\u001b[0mmapping\u001b[0m\u001b[0;34m[\u001b[0m\u001b[0mitem\u001b[0m\u001b[0;34m[\u001b[0m\u001b[0;36m0\u001b[0m\u001b[0;34m]\u001b[0m\u001b[0;34m]\u001b[0m\u001b[0;34m,\u001b[0m \u001b[0mmapping\u001b[0m\u001b[0;34m[\u001b[0m\u001b[0mitem\u001b[0m\u001b[0;34m[\u001b[0m\u001b[0;36m1\u001b[0m\u001b[0;34m]\u001b[0m\u001b[0;34m]\u001b[0m\u001b[0;34m]\u001b[0m\u001b[0;34m)\u001b[0m\u001b[0;34m.\u001b[0m\u001b[0mreshape\u001b[0m\u001b[0;34m(\u001b[0m\u001b[0;36m1\u001b[0m\u001b[0;34m,\u001b[0m\u001b[0;34m-\u001b[0m\u001b[0;36m1\u001b[0m\u001b[0;34m)\u001b[0m\u001b[0;34m)\u001b[0m\u001b[0;34m\u001b[0m\u001b[0;34m\u001b[0m\u001b[0m\n\u001b[0m\u001b[1;32m     17\u001b[0m                 \u001b[0my_cur\u001b[0m\u001b[0;34m.\u001b[0m\u001b[0mappend\u001b[0m\u001b[0;34m(\u001b[0m\u001b[0;36m1\u001b[0m\u001b[0;34m)\u001b[0m\u001b[0;34m\u001b[0m\u001b[0;34m\u001b[0m\u001b[0m\n\u001b[1;32m     18\u001b[0m                 \u001b[0;32mif\u001b[0m \u001b[0madd_negatives\u001b[0m\u001b[0;34m:\u001b[0m\u001b[0;34m\u001b[0m\u001b[0;34m\u001b[0m\u001b[0m\n",
      "\u001b[0;31mKeyboardInterrupt\u001b[0m: "
     ]
    }
   ],
   "source": [
    "import random\n",
    "from sklearn.linear_model import SGDClassifier\n",
    "from sklearn.metrics import accuracy_score, log_loss, classification_report, f1_score, confusion_matrix\n",
    "\n",
    "random_seed = 42\n",
    "random.seed(random_seed)\n",
    "np.random.seed(random_seed)\n",
    "\n",
    "est = SGDClassifier(loss='hinge',  n_jobs=1,\n",
    "                    warm_start=True,\n",
    "                    learning_rate='constant',\n",
    "                    eta0 = 0.00001,\n",
    "                    penalty='l2',\n",
    "                    random_state=random_seed,\n",
    "                    tol=0e-3)\n",
    "\n",
    "X_train = []\n",
    "ns_samples = 1\n",
    "cor_strategy = \"both\" # could be head or tail\n",
    "print_every = 10000\n",
    "train_every = 5000\n",
    "logs = []\n",
    "c = 0\n",
    "X_cur_train = []\n",
    "y_cur_train = []\n",
    "use_weights = True\n",
    "best_score = 0\n",
    "best_model = None\n",
    "tol_count = 0\n",
    "tolerance = 3\n",
    "if use_weights:\n",
    "    pos_weight = 1 - get_sparsity(adj_train)\n",
    "for str_item in x_train_pairs:\n",
    "    item = str_item.split('_')\n",
    "    item = [float(i) for i in item]\n",
    "    c += 1\n",
    "    if c % print_every == 0 and c >= print_every:\n",
    "        print(\"$$$$$$$$$    Report     $$$$$$$$$\")\n",
    "        print(\"We are at: %d %0.2f%%\"%(c, 100*c/float(len(x_train_pairs))))\n",
    "        prec, rec, f1 = minibatch_test(x_test_pairs[:10000], adj_all, mapping, est, minibatch_size=1000, print_progress=False)\n",
    "        f1_train = f1_score(y_train_true, y_train_pred)\n",
    "        best_score, best_model, tol_count, early_stop = check_early_stopping(best_score, best_model, f1_train, est, tol_count, tolerance)\n",
    "        print(\"TRAIN BATCH F1: %0.2f%% \"%(100*f1_train))\n",
    "        print(\"TEST F1: %0.2f%% \"%(100*f1))\n",
    "        logs.append({'Step':c, 'Prec':prec, 'Rec':rec,'F1':f1, 'F1-Train':f1_train})\n",
    "        print(\"$$$$$$$$$$$$$$$$$\"*4 + '\\n')\n",
    "        if early_stop:\n",
    "            est = best_model\n",
    "            break\n",
    "            \n",
    "    try:\n",
    "        X_cur_train.append(np.concatenate([mapping[item[0]], mapping[item[1]]]).reshape(1,-1))\n",
    "        y_cur_train.append(1)\n",
    "        #est.partial_fit(X_cur, [1],classes=[-1, 1])\n",
    "    except KeyError:\n",
    "        continue\n",
    "    # Current index of head triple\n",
    "    head_ind = int(item[0])\n",
    "    # Positive linkgs of this triple\n",
    "    pos_ind = np.argwhere(adj_train[head_ind]>0).flatten()\n",
    "    # Negative sampled links\n",
    "    neg_ind = negsamp_vectorized_bsearch_preverif(pos_ind, len(adj_train), ns_samples)\n",
    "    #print(neg_ind)\n",
    "    for neg_item in neg_ind: \n",
    "        try:\n",
    "            X_cur_train.append(np.concatenate([mapping[item[0]], mapping[float(neg_item)]]).reshape(1,-1))\n",
    "            y_cur_train.append(-1)\n",
    "        except KeyError:\n",
    "            continue\n",
    "        except IndexError:\n",
    "            continue\n",
    "    if len(X_cur_train) >= train_every:\n",
    "        X_cur_train = np.array(X_cur_train).reshape( len(X_cur_train), -1)\n",
    "        y_cur_train = np.array(y_cur_train).ravel()\n",
    "        from sklearn.utils import shuffle\n",
    "        X_cur_train, y_cur_train = shuffle(X_cur_train, y_cur_train)\n",
    "        if use_weights:\n",
    "            weights = pos_weight * np.ones_like(y_cur_train)\n",
    "            weights[weights < 0] = 1-pos_weight\n",
    "            est.partial_fit(X_cur_train, y_cur_train, [-1, 1], sample_weight=weights)\n",
    "            y_train_pred = est.predict(X_cur_train).ravel()\n",
    "            y_train_true = y_cur_train.ravel()\n",
    "        else:\n",
    "            est.partial_fit(X_cur_train, y_cur_train, [-1, 1])\n",
    "            y_train_pred = est.predict(X_cur_train).ravel()\n",
    "            y_train_true = y_cur_train.ravel()\n",
    "        #from collections import Counter\n",
    "        #Counter(y_cur_train)\n",
    "        X_cur_train = []\n",
    "        y_cur_train = []\n",
    "        weights = []\n",
    "        "
   ]
  },
  {
   "cell_type": "code",
   "execution_count": 16,
   "metadata": {},
   "outputs": [
    {
     "data": {
      "text/plain": [
       "<matplotlib.axes._subplots.AxesSubplot at 0x7f7b30eab400>"
      ]
     },
     "execution_count": 16,
     "metadata": {},
     "output_type": "execute_result"
    },
    {
     "data": {
      "image/png": "[encoded data removed]",
      "text/plain": [
       "<Figure size 432x288 with 1 Axes>"
      ]
     },
     "metadata": {
      "needs_background": "dark"
     },
     "output_type": "display_data"
    }
   ],
   "source": [
    "import seaborn as sns\n",
    "df = pd.DataFrame(logs)\n",
    "#df.F1.plot()\n",
    "#plt.show()\n",
    "sns.lineplot(x='Step', y='value', hue='variable', data=df.drop(['Prec', 'Rec'], axis=1).melt('Step'))"
   ]
  },
  {
   "cell_type": "code",
   "execution_count": 17,
   "metadata": {},
   "outputs": [
    {
     "data": {
      "application/vnd.jupyter.widget-view+json": {
       "model_id": "39c7e302bffc47d09e2e854f3f8725e9",
       "version_major": 2,
       "version_minor": 0
      },
      "text/plain": [
       "HBox(children=(IntProgress(value=0, max=3679), HTML(value='')))"
      ]
     },
     "metadata": {},
     "output_type": "display_data"
    },
    {
     "name": "stdout",
     "output_type": "stream",
     "text": [
      "\n"
     ]
    }
   ],
   "source": [
    "#Print Total Result\n",
    "X_est = []\n",
    "c = 0\n",
    "est_every = 10000\n",
    "y_pred = []\n",
    "for i in tqdm_notebook(range(len(adj_all))):\n",
    "    for j in range(len(adj_all)):\n",
    "        X_est.append(np.concatenate([mapping[float(i)], mapping[float(j)]]).reshape(1,-1))\n",
    "        c += 1\n",
    "        if c == est_every:\n",
    "            X_est = np.array(X_est).reshape(len(X_est), -1)\n",
    "            y_pred.extend(est.predict(X_est).ravel().tolist())\n",
    "            c = 0\n",
    "            X_est = []\n",
    "# For what's left\n",
    "if c > 0:\n",
    "    X_est = np.array(X_est).reshape(len(X_est), -1)\n",
    "    y_pred.extend(est.predict(X_est).ravel().tolist())\n",
    "    c = 0\n",
    "    X_est = []"
   ]
  },
  {
   "cell_type": "code",
   "execution_count": 136,
   "metadata": {},
   "outputs": [
    {
     "name": "stdout",
     "output_type": "stream",
     "text": [
      "True positive:  455235\n",
      "False positive:  5286273\n",
      "False negative:  548932\n",
      "True negative:  7244601\n",
      "Total #:  13535041\n",
      "True positive rate (recall):  0.45334590760301824\n",
      "Precision:  0.0792884029770576\n",
      "F1:  0.13497092581542988\n"
     ]
    },
    {
     "data": {
      "text/plain": [
       "(0.0792884029770576, 0.45334590760301824, 0.13497092581542988)"
      ]
     },
     "execution_count": 136,
     "metadata": {},
     "output_type": "execute_result"
    }
   ],
   "source": [
    "show_metrics_pos(adj_test.ravel(), np.array(y_pred).reshape(adj_all.shape).ravel(), pos_label=1, neg_label=-1)"
   ]
  },
  {
   "cell_type": "code",
   "execution_count": 162,
   "metadata": {},
   "outputs": [
    {
     "name": "stdout",
     "output_type": "stream",
     "text": [
      "True positive:  591524\n",
      "False positive:  7075354\n",
      "False negative:  412643\n",
      "True negative:  5455520\n",
      "Total #:  13535041\n",
      "True positive rate (recall):  0.5890693480267725\n",
      "Precision:  0.07715317760371301\n",
      "F1:  0.13643661173480243\n"
     ]
    },
    {
     "data": {
      "text/plain": [
       "(0.07715317760371301, 0.5890693480267725, 0.13643661173480243)"
      ]
     },
     "execution_count": 162,
     "metadata": {},
     "output_type": "execute_result"
    }
   ],
   "source": [
    "# This is with positive weights\n",
    "show_metrics_pos(adj_test.ravel(), np.array(y_pred).reshape(adj_all.shape).ravel(), pos_label=1, neg_label=-1)"
   ]
  },
  {
   "cell_type": "code",
   "execution_count": 16,
   "metadata": {},
   "outputs": [
    {
     "name": "stdout",
     "output_type": "stream",
     "text": [
      "True positive:  664463\n",
      "False positive:  7834428\n",
      "False negative:  339704\n",
      "True negative:  4696446\n",
      "Total #:  13535041\n",
      "True positive rate (recall):  0.6617056724628473\n",
      "Precision:  0.07818231814009616\n",
      "F1:  0.13984193298620295\n"
     ]
    },
    {
     "data": {
      "text/plain": [
       "(0.07818231814009616, 0.6617056724628473, 0.13984193298620295)"
      ]
     },
     "execution_count": 16,
     "metadata": {},
     "output_type": "execute_result"
    }
   ],
   "source": [
    "# This is with warm start jobs=1 pos_weights reversed (could use early stopping on the features)\n",
    "show_metrics_pos(adj_test.ravel(), np.array(y_pred).reshape(adj_all.shape).ravel(), pos_label=1, neg_label=-1)"
   ]
  },
  {
   "cell_type": "code",
   "execution_count": 18,
   "metadata": {},
   "outputs": [
    {
     "name": "stdout",
     "output_type": "stream",
     "text": [
      "True positive:  853391\n",
      "False positive:  10398594\n",
      "False negative:  150776\n",
      "True negative:  2132280\n",
      "Total #:  13535041\n",
      "True positive rate (recall):  0.8498496763984477\n",
      "Precision:  0.07584359559668805\n",
      "F1:  0.13925920631532637\n"
     ]
    },
    {
     "data": {
      "text/plain": [
       "(0.07584359559668805, 0.8498496763984477, 0.13925920631532637)"
      ]
     },
     "execution_count": 18,
     "metadata": {},
     "output_type": "execute_result"
    }
   ],
   "source": [
    "# with early stopping weighting with large the positive samples\n",
    "show_metrics_pos(adj_test.ravel(), np.array(y_pred).reshape(adj_all.shape).ravel(), pos_label=1, neg_label=-1)"
   ]
  },
  {
   "cell_type": "code",
   "execution_count": null,
   "metadata": {},
   "outputs": [],
   "source": []
  }
 ],
 "metadata": {
  "kernelspec": {
   "display_name": "Python [conda env:fastai]",
   "language": "python",
   "name": "conda-env-fastai-py"
  },
  "language_info": {
   "codemirror_mode": {
    "name": "ipython",
    "version": 3
   },
   "file_extension": ".py",
   "mimetype": "text/x-python",
   "name": "python",
   "nbconvert_exporter": "python",
   "pygments_lexer": "ipython3",
   "version": "3.7.3"
  }
 },
 "nbformat": 4,
 "nbformat_minor": 2
}
